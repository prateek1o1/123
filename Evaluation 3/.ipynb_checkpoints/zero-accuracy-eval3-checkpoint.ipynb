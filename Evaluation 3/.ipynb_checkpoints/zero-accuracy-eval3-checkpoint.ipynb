{
 "cells": [
  {
   "cell_type": "code",
   "execution_count": 1,
   "metadata": {
    "_cell_guid": "b1076dfc-b9ad-4769-8c92-a6c4dae69d19",
    "_uuid": "8f2839f25d086af736a60e9eeb907d3b93b6e0e5",
    "execution": {
     "iopub.execute_input": "2022-12-09T19:16:18.931289Z",
     "iopub.status.busy": "2022-12-09T19:16:18.930803Z",
     "iopub.status.idle": "2022-12-09T19:16:25.051218Z",
     "shell.execute_reply": "2022-12-09T19:16:25.050252Z",
     "shell.execute_reply.started": "2022-12-09T19:16:18.931187Z"
    }
   },
   "outputs": [],
   "source": [
    "# This Python 3 environment comes with many helpful analytics libraries installed\n",
    "# It is defined by the kaggle/python Docker image: https://github.com/kaggle/docker-python\n",
    "# For example, here's several helpful packages to load\n",
    "\n",
    "import numpy as np # linear algebra\n",
    "import pandas as pd # data processing, CSV file I/O (e.g. pd.read_csv)\n",
    "\n",
    "# Input data files are available in the read-only \"../input/\" directory\n",
    "# For example, running this (by clicking run or pressing Shift+Enter) will list all files under the input directory\n",
    "\n",
    "import os\n",
    "for dirname, _, filenames in os.walk('/kaggle/input'):\n",
    "    for filename in filenames:\n",
    "        os.path.join(dirname, filename)\n",
    "\n",
    "# You can write up to 20GB to the current directory (/kaggle/working/) that gets preserved as output when you create a version using \"Save & Run All\" \n",
    "# You can also write temporary files to /kaggle/temp/, but they won't be saved outside of the current session"
   ]
  },
  {
   "cell_type": "markdown",
   "metadata": {},
   "source": [
    "# Importing Libraries"
   ]
  },
  {
   "cell_type": "code",
   "execution_count": 2,
   "metadata": {
    "execution": {
     "iopub.execute_input": "2022-12-09T19:16:25.053255Z",
     "iopub.status.busy": "2022-12-09T19:16:25.052865Z",
     "iopub.status.idle": "2022-12-09T19:16:26.418574Z",
     "shell.execute_reply": "2022-12-09T19:16:26.417804Z",
     "shell.execute_reply.started": "2022-12-09T19:16:25.053219Z"
    }
   },
   "outputs": [],
   "source": [
    "import numpy as np\n",
    "import pandas as pd\n",
    "import matplotlib.pyplot as plt \n",
    "import seaborn as sns \n",
    "import sklearn.preprocessing as preprocessing \n",
    "from sklearn.feature_extraction.text import TfidfVectorizer\n",
    "from sklearn.metrics import roc_curve\n",
    "from sklearn.metrics import roc_auc_score\n",
    "from sklearn.preprocessing import StandardScaler\n",
    "import nltk\n",
    "import re\n",
    "from gensim.models import Word2Vec\n",
    "from gensim.models import KeyedVectors\n",
    "import pickle\n",
    "from tqdm import tqdm"
   ]
  },
  {
   "cell_type": "code",
   "execution_count": 3,
   "metadata": {
    "execution": {
     "iopub.execute_input": "2022-12-09T19:16:26.420157Z",
     "iopub.status.busy": "2022-12-09T19:16:26.419733Z",
     "iopub.status.idle": "2022-12-09T19:16:26.867594Z",
     "shell.execute_reply": "2022-12-09T19:16:26.866570Z",
     "shell.execute_reply.started": "2022-12-09T19:16:26.420131Z"
    }
   },
   "outputs": [],
   "source": [
    "df_train = pd.read_csv(\"../input/aid-escalating-internet-coverage/train.csv\")\n",
    "df_test = pd.read_csv(\"../input/aid-escalating-internet-coverage/test.csv\")\n",
    "\n",
    "y = df_train[\"label\"]\n",
    "df_train.drop(\"label\",axis = 1,inplace = True)\n",
    "df = pd.concat([df_train,df_test],ignore_index=True)"
   ]
  },
  {
   "cell_type": "markdown",
   "metadata": {},
   "source": [
    "# Data Preprocessing"
   ]
  },
  {
   "cell_type": "code",
   "execution_count": 4,
   "metadata": {
    "execution": {
     "iopub.execute_input": "2022-12-09T19:16:26.870265Z",
     "iopub.status.busy": "2022-12-09T19:16:26.869903Z",
     "iopub.status.idle": "2022-12-09T19:16:26.889026Z",
     "shell.execute_reply": "2022-12-09T19:16:26.887869Z",
     "shell.execute_reply.started": "2022-12-09T19:16:26.870224Z"
    }
   },
   "outputs": [
    {
     "data": {
      "text/plain": [
       "link                                  0\n",
       "link_id                               0\n",
       "page_description                      0\n",
       "alchemy_category                      0\n",
       "alchemy_category_score                0\n",
       "avg_link_size                         0\n",
       "common_word_link_ratio_1              0\n",
       "common_word_link_ratio_2              0\n",
       "common_word_link_ratio_3              0\n",
       "common_word_link_ratio_4              0\n",
       "compression_ratio                     0\n",
       "embed_ratio                           0\n",
       "frame_based                           0\n",
       "frame_tag_ratio                       0\n",
       "has_domain_link                       0\n",
       "html_ratio                            0\n",
       "image_ratio                           0\n",
       "is_news                               0\n",
       "lengthy_link_domain                   0\n",
       "link_word_score                       0\n",
       "news_front_page                       0\n",
       "non_markup_alphanumeric_characters    0\n",
       "count_of_links                        0\n",
       "number_of_words_in_url                0\n",
       "parametrized_link_ratio               0\n",
       "spelling_mistakes_ratio               0\n",
       "dtype: int64"
      ]
     },
     "execution_count": 4,
     "metadata": {},
     "output_type": "execute_result"
    }
   ],
   "source": [
    "df.isna().sum()"
   ]
  },
  {
   "cell_type": "code",
   "execution_count": 5,
   "metadata": {
    "execution": {
     "iopub.execute_input": "2022-12-09T19:16:26.890436Z",
     "iopub.status.busy": "2022-12-09T19:16:26.890129Z",
     "iopub.status.idle": "2022-12-09T19:16:26.907051Z",
     "shell.execute_reply": "2022-12-09T19:16:26.905739Z",
     "shell.execute_reply.started": "2022-12-09T19:16:26.890411Z"
    }
   },
   "outputs": [
    {
     "data": {
      "text/plain": [
       "link                                     0\n",
       "link_id                                  0\n",
       "page_description                         0\n",
       "alchemy_category                      2342\n",
       "alchemy_category_score                2342\n",
       "avg_link_size                            0\n",
       "common_word_link_ratio_1                 0\n",
       "common_word_link_ratio_2                 0\n",
       "common_word_link_ratio_3                 0\n",
       "common_word_link_ratio_4                 0\n",
       "compression_ratio                        0\n",
       "embed_ratio                              0\n",
       "frame_based                              0\n",
       "frame_tag_ratio                          0\n",
       "has_domain_link                          0\n",
       "html_ratio                               0\n",
       "image_ratio                              0\n",
       "is_news                               2843\n",
       "lengthy_link_domain                      0\n",
       "link_word_score                          0\n",
       "news_front_page                       1248\n",
       "non_markup_alphanumeric_characters       0\n",
       "count_of_links                           0\n",
       "number_of_words_in_url                   0\n",
       "parametrized_link_ratio                  0\n",
       "spelling_mistakes_ratio                  0\n",
       "dtype: int64"
      ]
     },
     "execution_count": 5,
     "metadata": {},
     "output_type": "execute_result"
    }
   ],
   "source": [
    "(df == '?').sum()"
   ]
  },
  {
   "cell_type": "code",
   "execution_count": 6,
   "metadata": {
    "execution": {
     "iopub.execute_input": "2022-12-09T19:16:26.909211Z",
     "iopub.status.busy": "2022-12-09T19:16:26.908595Z",
     "iopub.status.idle": "2022-12-09T19:16:26.913682Z",
     "shell.execute_reply": "2022-12-09T19:16:26.912814Z",
     "shell.execute_reply.started": "2022-12-09T19:16:26.909177Z"
    }
   },
   "outputs": [],
   "source": [
    "#df[\"alchemy_category\"].replace(\"?\",\"recreation\",inplace = True)"
   ]
  },
  {
   "cell_type": "code",
   "execution_count": 11,
   "metadata": {
    "execution": {
     "iopub.execute_input": "2022-12-09T19:17:01.568957Z",
     "iopub.status.busy": "2022-12-09T19:17:01.568596Z",
     "iopub.status.idle": "2022-12-09T19:17:01.573512Z",
     "shell.execute_reply": "2022-12-09T19:17:01.572463Z",
     "shell.execute_reply.started": "2022-12-09T19:17:01.568929Z"
    }
   },
   "outputs": [],
   "source": [
    "# df[\"alchemy_category_score\"].replace(\"?\",0,inplace = True)\n",
    "# df[\"alchemy_category_score\"] = pd.to_numeric(df[\"alchemy_category_score\"])\n",
    "# df[\"alchemy_category_score\"].replace(0,df[\"alchemy_category_score\"].sum()/5053,inplace = True)"
   ]
  },
  {
   "cell_type": "code",
   "execution_count": 12,
   "metadata": {
    "execution": {
     "iopub.execute_input": "2022-12-09T19:17:01.600228Z",
     "iopub.status.busy": "2022-12-09T19:17:01.599905Z",
     "iopub.status.idle": "2022-12-09T19:17:01.659169Z",
     "shell.execute_reply": "2022-12-09T19:17:01.658189Z",
     "shell.execute_reply.started": "2022-12-09T19:17:01.600201Z"
    }
   },
   "outputs": [
    {
     "data": {
      "text/plain": [
       "0"
      ]
     },
     "execution_count": 12,
     "metadata": {},
     "output_type": "execute_result"
    }
   ],
   "source": [
    "df.duplicated().sum()"
   ]
  },
  {
   "cell_type": "markdown",
   "metadata": {},
   "source": [
    "# NLP (Data Cleaning)"
   ]
  },
  {
   "cell_type": "markdown",
   "metadata": {},
   "source": [
    "# Text Processing"
   ]
  },
  {
   "cell_type": "code",
   "execution_count": 13,
   "metadata": {
    "execution": {
     "iopub.execute_input": "2022-12-09T19:17:01.660992Z",
     "iopub.status.busy": "2022-12-09T19:17:01.660708Z",
     "iopub.status.idle": "2022-12-09T19:17:06.816392Z",
     "shell.execute_reply": "2022-12-09T19:17:06.815505Z",
     "shell.execute_reply.started": "2022-12-09T19:17:01.660960Z"
    }
   },
   "outputs": [],
   "source": [
    "df_page = df.loc[:,\"page_description\"]\n",
    "\n",
    "for i in range(df_page.shape[0]):\n",
    "    df_page.iloc[i] = re.sub(r'[^\\w\\s]','',df_page.iloc[i])\n",
    "for i in range(df_page.shape[0]):\n",
    "     df_page.iloc[i] = re.sub(r'[\\d]','',df_page.iloc[i])"
   ]
  },
  {
   "cell_type": "markdown",
   "metadata": {},
   "source": [
    "# Tokenize"
   ]
  },
  {
   "cell_type": "code",
   "execution_count": 14,
   "metadata": {
    "execution": {
     "iopub.execute_input": "2022-12-09T19:17:06.817772Z",
     "iopub.status.busy": "2022-12-09T19:17:06.817481Z",
     "iopub.status.idle": "2022-12-09T19:17:16.242878Z",
     "shell.execute_reply": "2022-12-09T19:17:16.242102Z",
     "shell.execute_reply.started": "2022-12-09T19:17:06.817747Z"
    }
   },
   "outputs": [],
   "source": [
    "token = [[]] * df.shape[0]\n",
    "for i in range(df.shape[0]):\n",
    "    token[i] = nltk.word_tokenize(df_page.iloc[i].lower())    "
   ]
  },
  {
   "cell_type": "markdown",
   "metadata": {},
   "source": [
    "# Remove Stop Words"
   ]
  },
  {
   "cell_type": "code",
   "execution_count": 15,
   "metadata": {
    "execution": {
     "iopub.execute_input": "2022-12-09T19:17:16.245720Z",
     "iopub.status.busy": "2022-12-09T19:17:16.244972Z",
     "iopub.status.idle": "2022-12-09T19:17:23.537046Z",
     "shell.execute_reply": "2022-12-09T19:17:23.535563Z",
     "shell.execute_reply.started": "2022-12-09T19:17:16.245686Z"
    }
   },
   "outputs": [],
   "source": [
    "from nltk.corpus import stopwords\n",
    "stop_words = stopwords.words('english')\n",
    "stop_words.extend(['i','my','if','oh','yes','yeah','no','cuz','us','also','un','put','get','got','also'])\n",
    "word_list=[]\n",
    "for text in token:\n",
    "    no_stopwords = [word for word in text if word not in stop_words]\n",
    "    word_list.append(no_stopwords)"
   ]
  },
  {
   "cell_type": "markdown",
   "metadata": {},
   "source": [
    "# Lemmatization"
   ]
  },
  {
   "cell_type": "code",
   "execution_count": 16,
   "metadata": {
    "execution": {
     "iopub.execute_input": "2022-12-09T19:17:23.539574Z",
     "iopub.status.busy": "2022-12-09T19:17:23.538553Z",
     "iopub.status.idle": "2022-12-09T19:17:34.837875Z",
     "shell.execute_reply": "2022-12-09T19:17:34.836556Z",
     "shell.execute_reply.started": "2022-12-09T19:17:23.539529Z"
    }
   },
   "outputs": [
    {
     "name": "stderr",
     "output_type": "stream",
     "text": [
      "[nltk_data] Downloading package omw-1.4 to /usr/share/nltk_data...\n"
     ]
    }
   ],
   "source": [
    "nltk.download('omw-1.4')\n",
    "from nltk.stem import WordNetLemmatizer\n",
    "lemmatizer = WordNetLemmatizer()\n",
    "\n",
    "lemmatize_list = []\n",
    "for word in word_list:\n",
    "    filter_data = []\n",
    "    for data in word:\n",
    "        filter_data.append(lemmatizer.lemmatize(data))\n",
    "    lemmatize_list.append(filter_data)    "
   ]
  },
  {
   "cell_type": "markdown",
   "metadata": {},
   "source": [
    "# Unique Values"
   ]
  },
  {
   "cell_type": "code",
   "execution_count": 17,
   "metadata": {
    "execution": {
     "iopub.execute_input": "2022-12-09T19:17:34.839737Z",
     "iopub.status.busy": "2022-12-09T19:17:34.839354Z",
     "iopub.status.idle": "2022-12-09T19:17:35.117811Z",
     "shell.execute_reply": "2022-12-09T19:17:35.116834Z",
     "shell.execute_reply.started": "2022-12-09T19:17:34.839705Z"
    }
   },
   "outputs": [],
   "source": [
    "unique_list=[]\n",
    "for data in lemmatize_list:\n",
    "    set_data = set(data)\n",
    "    temporary=[]\n",
    "    for word in set_data:\n",
    "        temporary.append(word)\n",
    "    unique_list.append(temporary)\n",
    "    "
   ]
  },
  {
   "cell_type": "code",
   "execution_count": 18,
   "metadata": {
    "execution": {
     "iopub.execute_input": "2022-12-09T19:17:35.119534Z",
     "iopub.status.busy": "2022-12-09T19:17:35.119161Z",
     "iopub.status.idle": "2022-12-09T19:17:35.170288Z",
     "shell.execute_reply": "2022-12-09T19:17:35.169311Z",
     "shell.execute_reply.started": "2022-12-09T19:17:35.119497Z"
    }
   },
   "outputs": [],
   "source": [
    "clean_pagedesc=[]\n",
    "for item in unique_list:\n",
    "    sr=\" \"\n",
    "    clean_pagedesc.append(sr.join(item))\n",
    "df[\"clean_page_description\"]=clean_pagedesc"
   ]
  },
  {
   "cell_type": "markdown",
   "metadata": {},
   "source": [
    "# Applying TF-IDF"
   ]
  },
  {
   "cell_type": "code",
   "execution_count": 19,
   "metadata": {
    "execution": {
     "iopub.execute_input": "2022-12-09T19:17:35.171852Z",
     "iopub.status.busy": "2022-12-09T19:17:35.171520Z",
     "iopub.status.idle": "2022-12-09T19:17:36.348993Z",
     "shell.execute_reply": "2022-12-09T19:17:36.347875Z",
     "shell.execute_reply.started": "2022-12-09T19:17:35.171806Z"
    }
   },
   "outputs": [],
   "source": [
    "from sklearn.decomposition import TruncatedSVD\n",
    "feature_extraction = TfidfVectorizer(max_df=0.9,min_df = 5,max_features=3000)\n",
    "page_feature = feature_extraction.fit_transform(df['clean_page_description'])\n",
    "x_df = pd.DataFrame(page_feature.toarray())"
   ]
  },
  {
   "cell_type": "markdown",
   "metadata": {},
   "source": [
    "# PCA(SVD)"
   ]
  },
  {
   "cell_type": "code",
   "execution_count": 20,
   "metadata": {
    "execution": {
     "iopub.execute_input": "2022-12-09T19:17:36.351165Z",
     "iopub.status.busy": "2022-12-09T19:17:36.350405Z",
     "iopub.status.idle": "2022-12-09T19:17:47.463766Z",
     "shell.execute_reply": "2022-12-09T19:17:47.463025Z",
     "shell.execute_reply.started": "2022-12-09T19:17:36.351128Z"
    }
   },
   "outputs": [],
   "source": [
    "svd = TruncatedSVD(n_components=1000)\n",
    "x_df = svd.fit_transform(x_df)\n",
    "x_df=pd.DataFrame(x_df)"
   ]
  },
  {
   "cell_type": "markdown",
   "metadata": {},
   "source": [
    "# Word2Vec Implementation"
   ]
  },
  {
   "cell_type": "code",
   "execution_count": 21,
   "metadata": {
    "execution": {
     "iopub.execute_input": "2022-12-09T19:17:47.467225Z",
     "iopub.status.busy": "2022-12-09T19:17:47.466746Z",
     "iopub.status.idle": "2022-12-09T19:17:47.470576Z",
     "shell.execute_reply": "2022-12-09T19:17:47.469837Z",
     "shell.execute_reply.started": "2022-12-09T19:17:47.467196Z"
    }
   },
   "outputs": [],
   "source": [
    "# list_of_sentance=[]\n",
    "# for sentance in clean_pagedesc:\n",
    "#     list_of_sentance.append(sentance.split())"
   ]
  },
  {
   "cell_type": "code",
   "execution_count": 22,
   "metadata": {
    "execution": {
     "iopub.execute_input": "2022-12-09T19:17:47.472652Z",
     "iopub.status.busy": "2022-12-09T19:17:47.472104Z",
     "iopub.status.idle": "2022-12-09T19:17:47.485176Z",
     "shell.execute_reply": "2022-12-09T19:17:47.484131Z",
     "shell.execute_reply.started": "2022-12-09T19:17:47.472624Z"
    }
   },
   "outputs": [],
   "source": [
    "# w2v_model = Word2Vec(list_of_sentance,min_count = 5,vector_size = 50, workers = 4,window = 5, sg = 1,negative =20)\n",
    "# w2v_words = list(w2v_model.wv.index_to_key)"
   ]
  },
  {
   "cell_type": "code",
   "execution_count": 23,
   "metadata": {
    "execution": {
     "iopub.execute_input": "2022-12-09T19:17:47.487411Z",
     "iopub.status.busy": "2022-12-09T19:17:47.486756Z",
     "iopub.status.idle": "2022-12-09T19:17:47.493490Z",
     "shell.execute_reply": "2022-12-09T19:17:47.492819Z",
     "shell.execute_reply.started": "2022-12-09T19:17:47.487373Z"
    }
   },
   "outputs": [],
   "source": [
    "# feature_extraction = TfidfVectorizer()\n",
    "# feature_extraction.fit(df['clean_page_description'])\n",
    "# a=feature_extraction.get_feature_names_out()\n",
    "# b=list(feature_extraction.idf_)"
   ]
  },
  {
   "cell_type": "code",
   "execution_count": 24,
   "metadata": {
    "execution": {
     "iopub.execute_input": "2022-12-09T19:17:47.495530Z",
     "iopub.status.busy": "2022-12-09T19:17:47.494654Z",
     "iopub.status.idle": "2022-12-09T19:17:47.504627Z",
     "shell.execute_reply": "2022-12-09T19:17:47.503411Z",
     "shell.execute_reply.started": "2022-12-09T19:17:47.495465Z"
    }
   },
   "outputs": [],
   "source": [
    "# dictionary = {}\n",
    "# for i in range(len(a)): \n",
    "#     dictionary[a[i]]=b[i]"
   ]
  },
  {
   "cell_type": "code",
   "execution_count": 25,
   "metadata": {
    "execution": {
     "iopub.execute_input": "2022-12-09T19:17:47.507023Z",
     "iopub.status.busy": "2022-12-09T19:17:47.505979Z",
     "iopub.status.idle": "2022-12-09T19:17:47.514618Z",
     "shell.execute_reply": "2022-12-09T19:17:47.513495Z",
     "shell.execute_reply.started": "2022-12-09T19:17:47.506966Z"
    }
   },
   "outputs": [],
   "source": [
    "# tfidf_feat = feature_extraction.get_feature_names_out() \n",
    "\n",
    "# tfidf_sent_vectors = []\n",
    "# row=0\n",
    "# for sent in tqdm(list_of_sentance): \n",
    "#     sent_vec = np.zeros(50) \n",
    "#     weight_sum =0\n",
    "#     for word in sent: \n",
    "#         if word in w2v_words and word in tfidf_feat:\n",
    "#             vec = w2v_model.wv[word]\n",
    "#             tf_idf = dictionary[word]*(sent.count(word)/len(sent))\n",
    "#             sent_vec += (vec * tf_idf)\n",
    "#             weight_sum += tf_idf\n",
    "#     if weight_sum != 0:\n",
    "#         sent_vec /= weight_sum\n",
    "#     tfidf_sent_vectors.append(sent_vec)\n",
    "#     row += 1"
   ]
  },
  {
   "cell_type": "code",
   "execution_count": 26,
   "metadata": {
    "execution": {
     "iopub.execute_input": "2022-12-09T19:17:47.516639Z",
     "iopub.status.busy": "2022-12-09T19:17:47.516253Z",
     "iopub.status.idle": "2022-12-09T19:17:47.523283Z",
     "shell.execute_reply": "2022-12-09T19:17:47.522478Z",
     "shell.execute_reply.started": "2022-12-09T19:17:47.516601Z"
    }
   },
   "outputs": [],
   "source": [
    "# len(tfidf_sent_vectors)\n",
    "# x_df = pd.DataFrame(tfidf_sent_vectors)\n",
    "# x_df.shape"
   ]
  },
  {
   "cell_type": "markdown",
   "metadata": {},
   "source": [
    "# Predicting \"alchemy_score\""
   ]
  },
  {
   "cell_type": "code",
   "execution_count": 27,
   "metadata": {
    "execution": {
     "iopub.execute_input": "2022-12-09T19:17:47.525258Z",
     "iopub.status.busy": "2022-12-09T19:17:47.524341Z",
     "iopub.status.idle": "2022-12-09T19:17:50.042781Z",
     "shell.execute_reply": "2022-12-09T19:17:50.041814Z",
     "shell.execute_reply.started": "2022-12-09T19:17:47.525224Z"
    }
   },
   "outputs": [],
   "source": [
    "cat_df=pd.DataFrame()\n",
    "cat_df['alchemy_category']=df['alchemy_category']\n",
    "cat_df=pd.concat([x_df,cat_df],axis=1)\n",
    "dict={'arts_entertainment':1, 'recreation':2, 'business':3, 'sports':4, '?':5,'culture_politics':6, 'computer_internet':7, 'religion':8, 'health':9,\n",
    "'science_technology':10, 'gaming':11, 'law_crime':12, 'unknown':13, 'weather':14}\n",
    "\n",
    "for i in range(cat_df.shape[0]):\n",
    "    cat_df.loc[i,\"alchemy_category\"]=dict[cat_df.loc[i,\"alchemy_category\"]]\n",
    "cat_df[\"alchemy_category\"]=cat_df['alchemy_category'].astype(np.int64)    "
   ]
  },
  {
   "cell_type": "code",
   "execution_count": 28,
   "metadata": {
    "execution": {
     "iopub.execute_input": "2022-12-09T19:17:50.044127Z",
     "iopub.status.busy": "2022-12-09T19:17:50.043844Z",
     "iopub.status.idle": "2022-12-09T19:17:50.089834Z",
     "shell.execute_reply": "2022-12-09T19:17:50.088961Z",
     "shell.execute_reply.started": "2022-12-09T19:17:50.044102Z"
    }
   },
   "outputs": [],
   "source": [
    "cat_test=cat_df[cat_df['alchemy_category']==5]\n",
    "cat_train=cat_df[cat_df['alchemy_category']!=5]\n",
    "\n",
    "test_X=cat_test.drop(\"alchemy_category\",axis=1)\n",
    "test_Y=cat_test[\"alchemy_category\"]\n",
    "\n",
    "train_X=cat_train.drop(\"alchemy_category\",axis=1)\n",
    "train_Y=cat_train[\"alchemy_category\"]"
   ]
  },
  {
   "cell_type": "code",
   "execution_count": 29,
   "metadata": {
    "execution": {
     "iopub.execute_input": "2022-12-09T19:17:50.091894Z",
     "iopub.status.busy": "2022-12-09T19:17:50.091526Z",
     "iopub.status.idle": "2022-12-09T19:17:54.410524Z",
     "shell.execute_reply": "2022-12-09T19:17:54.409574Z",
     "shell.execute_reply.started": "2022-12-09T19:17:50.091860Z"
    }
   },
   "outputs": [
    {
     "data": {
      "text/plain": [
       "1     316\n",
       "2     273\n",
       "3     153\n",
       "9      94\n",
       "4      80\n",
       "7      31\n",
       "10     29\n",
       "6      26\n",
       "8       4\n",
       "11      4\n",
       "12      1\n",
       "dtype: int64"
      ]
     },
     "execution_count": 29,
     "metadata": {},
     "output_type": "execute_result"
    }
   ],
   "source": [
    "from sklearn.model_selection import train_test_split\n",
    "from sklearn.metrics import accuracy_score\n",
    "from sklearn.tree import DecisionTreeClassifier\n",
    "\n",
    "train_cat_X, test_cat_X, train_cat_y, test_cat_y = train_test_split(train_X, train_Y, train_size=0.8)\n",
    "\n",
    "decision_tree_model = DecisionTreeClassifier(max_depth = 10).fit(train_cat_X, train_cat_y)\n",
    "yhat = decision_tree_model.predict(test_cat_X)\n",
    "yt=pd.DataFrame(yhat)\n",
    "yt.value_counts()"
   ]
  },
  {
   "cell_type": "code",
   "execution_count": 30,
   "metadata": {
    "execution": {
     "iopub.execute_input": "2022-12-09T19:17:54.411748Z",
     "iopub.status.busy": "2022-12-09T19:17:54.411516Z",
     "iopub.status.idle": "2022-12-09T19:17:54.419735Z",
     "shell.execute_reply": "2022-12-09T19:17:54.418693Z",
     "shell.execute_reply.started": "2022-12-09T19:17:54.411725Z"
    }
   },
   "outputs": [
    {
     "data": {
      "text/plain": [
       "0.334322453016815"
      ]
     },
     "execution_count": 30,
     "metadata": {},
     "output_type": "execute_result"
    }
   ],
   "source": [
    "accuracy_score(test_cat_y,yhat)"
   ]
  },
  {
   "cell_type": "code",
   "execution_count": 31,
   "metadata": {
    "execution": {
     "iopub.execute_input": "2022-12-09T19:17:54.421070Z",
     "iopub.status.busy": "2022-12-09T19:17:54.420801Z",
     "iopub.status.idle": "2022-12-09T19:17:59.873071Z",
     "shell.execute_reply": "2022-12-09T19:17:59.872263Z",
     "shell.execute_reply.started": "2022-12-09T19:17:54.421048Z"
    }
   },
   "outputs": [],
   "source": [
    "decision_tree = DecisionTreeClassifier(max_depth = 10).fit(train_X, train_Y)\n",
    "category_y = decision_tree.predict(test_X)\n",
    "category=pd.DataFrame(category_y)"
   ]
  },
  {
   "cell_type": "code",
   "execution_count": 32,
   "metadata": {
    "execution": {
     "iopub.execute_input": "2022-12-09T19:17:59.874279Z",
     "iopub.status.busy": "2022-12-09T19:17:59.874061Z",
     "iopub.status.idle": "2022-12-09T19:18:00.523567Z",
     "shell.execute_reply": "2022-12-09T19:18:00.522603Z",
     "shell.execute_reply.started": "2022-12-09T19:17:59.874256Z"
    }
   },
   "outputs": [],
   "source": [
    "k = 0\n",
    "for i in range(cat_df.shape[0]):\n",
    "    if cat_df.loc[i,\"alchemy_category\"] == 5:\n",
    "        cat_df.loc[i,\"alchemy_category\"] = category[0][k]\n",
    "        k += 1"
   ]
  },
  {
   "cell_type": "markdown",
   "metadata": {},
   "source": [
    "# Predicting \"alchemy_category_score\""
   ]
  },
  {
   "cell_type": "code",
   "execution_count": 33,
   "metadata": {
    "execution": {
     "iopub.execute_input": "2022-12-09T19:18:00.525582Z",
     "iopub.status.busy": "2022-12-09T19:18:00.525235Z",
     "iopub.status.idle": "2022-12-09T19:18:00.596540Z",
     "shell.execute_reply": "2022-12-09T19:18:00.595672Z",
     "shell.execute_reply.started": "2022-12-09T19:18:00.525557Z"
    }
   },
   "outputs": [],
   "source": [
    "cat_score_df=pd.DataFrame()\n",
    "\n",
    "cat_score_df['alchemy_category_score']=df['alchemy_category_score']\n",
    "cat_score_df=pd.concat([x_df,cat_score_df],axis=1)\n",
    "\n",
    "\n",
    "cat_score_test=cat_score_df[cat_score_df['alchemy_category_score'] == \"?\"]\n",
    "cat_score_train=cat_score_df[cat_score_df['alchemy_category_score'] != \"?\"]\n",
    "\n",
    "test_x=cat_score_test.drop(\"alchemy_category_score\",axis=1)\n",
    "test_y=cat_score_test[\"alchemy_category_score\"]\n",
    "\n",
    "train_x=cat_score_train.drop(\"alchemy_category_score\",axis=1)\n",
    "train_y=cat_score_train[\"alchemy_category_score\"].astype(np.float64)"
   ]
  },
  {
   "cell_type": "code",
   "execution_count": 34,
   "metadata": {
    "execution": {
     "iopub.execute_input": "2022-12-09T19:18:00.597938Z",
     "iopub.status.busy": "2022-12-09T19:18:00.597603Z",
     "iopub.status.idle": "2022-12-09T19:18:00.632487Z",
     "shell.execute_reply": "2022-12-09T19:18:00.631783Z",
     "shell.execute_reply.started": "2022-12-09T19:18:00.597908Z"
    }
   },
   "outputs": [],
   "source": [
    "train_cat_score_X, test_cat_score_X, train_cat_score_y, test_cat_score_y = train_test_split(train_x, train_y, train_size=0.8)"
   ]
  },
  {
   "cell_type": "code",
   "execution_count": 35,
   "metadata": {
    "execution": {
     "iopub.execute_input": "2022-12-09T19:18:00.633962Z",
     "iopub.status.busy": "2022-12-09T19:18:00.633388Z",
     "iopub.status.idle": "2022-12-09T19:18:01.114123Z",
     "shell.execute_reply": "2022-12-09T19:18:01.113231Z",
     "shell.execute_reply.started": "2022-12-09T19:18:00.633938Z"
    }
   },
   "outputs": [],
   "source": [
    "from sklearn.linear_model import LinearRegression\n",
    "\n",
    "lr_model = LinearRegression()\n",
    "lr_model.fit(train_cat_score_X, train_cat_score_y)\n",
    "score_y=lr_model.predict(test_cat_score_X)\n",
    "\n",
    "score=pd.DataFrame(score_y).astype(np.float64)\n"
   ]
  },
  {
   "cell_type": "code",
   "execution_count": 36,
   "metadata": {
    "execution": {
     "iopub.execute_input": "2022-12-09T19:18:01.118275Z",
     "iopub.status.busy": "2022-12-09T19:18:01.117874Z",
     "iopub.status.idle": "2022-12-09T19:18:01.130605Z",
     "shell.execute_reply": "2022-12-09T19:18:01.129667Z",
     "shell.execute_reply.started": "2022-12-09T19:18:01.118245Z"
    }
   },
   "outputs": [
    {
     "data": {
      "text/plain": [
       "0.22366917184708088"
      ]
     },
     "execution_count": 36,
     "metadata": {},
     "output_type": "execute_result"
    }
   ],
   "source": [
    "import math\n",
    "from sklearn.metrics import mean_squared_error\n",
    "rmse = math.sqrt(mean_squared_error(test_cat_score_y,score))\n",
    "rmse"
   ]
  },
  {
   "cell_type": "code",
   "execution_count": 37,
   "metadata": {
    "execution": {
     "iopub.execute_input": "2022-12-09T19:18:01.133003Z",
     "iopub.status.busy": "2022-12-09T19:18:01.132671Z",
     "iopub.status.idle": "2022-12-09T19:18:01.746005Z",
     "shell.execute_reply": "2022-12-09T19:18:01.745114Z",
     "shell.execute_reply.started": "2022-12-09T19:18:01.132974Z"
    }
   },
   "outputs": [],
   "source": [
    "from sklearn.linear_model import LinearRegression\n",
    "\n",
    "lr_model = LinearRegression()\n",
    "lr_model.fit(train_x, train_y)\n",
    "cat_score_y=lr_model.predict(test_x)\n",
    "cat_score=pd.DataFrame(cat_score_y).astype(np.float64)"
   ]
  },
  {
   "cell_type": "code",
   "execution_count": 38,
   "metadata": {
    "execution": {
     "iopub.execute_input": "2022-12-09T19:18:01.747319Z",
     "iopub.status.busy": "2022-12-09T19:18:01.747070Z",
     "iopub.status.idle": "2022-12-09T19:18:02.755147Z",
     "shell.execute_reply": "2022-12-09T19:18:02.754233Z",
     "shell.execute_reply.started": "2022-12-09T19:18:01.747292Z"
    }
   },
   "outputs": [],
   "source": [
    "k = 0\n",
    "for i in range(cat_score_df.shape[0]):\n",
    "    if cat_score_df.loc[i,\"alchemy_category_score\"] == \"?\":\n",
    "        cat_score_df.loc[i,\"alchemy_category_score\"] = cat_score[0][k]\n",
    "        k += 1"
   ]
  },
  {
   "cell_type": "markdown",
   "metadata": {},
   "source": [
    "# Selecting relevant features "
   ]
  },
  {
   "cell_type": "code",
   "execution_count": 39,
   "metadata": {
    "execution": {
     "iopub.execute_input": "2022-12-09T19:18:02.759991Z",
     "iopub.status.busy": "2022-12-09T19:18:02.759661Z",
     "iopub.status.idle": "2022-12-09T19:18:02.769547Z",
     "shell.execute_reply": "2022-12-09T19:18:02.768621Z",
     "shell.execute_reply.started": "2022-12-09T19:18:02.759961Z"
    }
   },
   "outputs": [],
   "source": [
    "df_new=df.drop([\"link_id\",\"alchemy_category\",\"alchemy_category_score\",\"link\",\"clean_page_description\",\"page_description\",\"frame_based\",\"is_news\",\"news_front_page\"],axis=1)\n",
    "df_new[\"alchemy_category\"]= cat_df[\"alchemy_category\"]\n",
    "df_new[\"alchemy_category_score\"]= cat_score_df[\"alchemy_category_score\"].astype(np.float64)\n",
    "df_new_columns=df_new.columns"
   ]
  },
  {
   "cell_type": "markdown",
   "metadata": {},
   "source": [
    "# Exploratory Data Analysis"
   ]
  },
  {
   "cell_type": "markdown",
   "metadata": {},
   "source": [
    "# Standardization"
   ]
  },
  {
   "cell_type": "code",
   "execution_count": 40,
   "metadata": {
    "execution": {
     "iopub.execute_input": "2022-12-09T19:18:02.770966Z",
     "iopub.status.busy": "2022-12-09T19:18:02.770681Z",
     "iopub.status.idle": "2022-12-09T19:18:02.787341Z",
     "shell.execute_reply": "2022-12-09T19:18:02.786500Z",
     "shell.execute_reply.started": "2022-12-09T19:18:02.770927Z"
    }
   },
   "outputs": [],
   "source": [
    "scaler = StandardScaler()\n",
    "for i in df_new_columns:\n",
    "    df_new[i] = scaler.fit_transform(df_new[i].to_numpy().reshape(-1, 1)).reshape(-1)"
   ]
  },
  {
   "cell_type": "markdown",
   "metadata": {},
   "source": [
    "# Outlier Removal"
   ]
  },
  {
   "cell_type": "code",
   "execution_count": 41,
   "metadata": {
    "execution": {
     "iopub.execute_input": "2022-12-09T19:18:02.788703Z",
     "iopub.status.busy": "2022-12-09T19:18:02.788403Z",
     "iopub.status.idle": "2022-12-09T19:18:02.795444Z",
     "shell.execute_reply": "2022-12-09T19:18:02.794203Z",
     "shell.execute_reply.started": "2022-12-09T19:18:02.788678Z"
    }
   },
   "outputs": [],
   "source": [
    "class OutlierRemoval: \n",
    "    def __init__(self, lower_quartile, upper_quartile):\n",
    "        self.lower_whisker = lower_quartile - 1.5*(upper_quartile - lower_quartile)\n",
    "        self.upper_whisker = upper_quartile + 1.5*(upper_quartile - lower_quartile)\n",
    "   \n",
    "    def removeOutlier(self, x):\n",
    "        return (x if x <= self.upper_whisker and x >= self.lower_whisker else (self.lower_whisker if x < self.lower_whisker else (self.upper_whisker)))\n"
   ]
  },
  {
   "cell_type": "code",
   "execution_count": 42,
   "metadata": {
    "execution": {
     "iopub.execute_input": "2022-12-09T19:18:02.797026Z",
     "iopub.status.busy": "2022-12-09T19:18:02.796711Z",
     "iopub.status.idle": "2022-12-09T19:18:02.915444Z",
     "shell.execute_reply": "2022-12-09T19:18:02.914284Z",
     "shell.execute_reply.started": "2022-12-09T19:18:02.796996Z"
    }
   },
   "outputs": [],
   "source": [
    "for i in df_new_columns: \n",
    "    score=df_new[i] \n",
    "    score_outlier_remover = OutlierRemoval(score.quantile(0.25), score.quantile(0.75)) \n",
    "    outlier_removed_score = score.apply(score_outlier_remover.removeOutlier) \n",
    "    df_new[i]=outlier_removed_score"
   ]
  },
  {
   "cell_type": "markdown",
   "metadata": {},
   "source": [
    "# Skewness"
   ]
  },
  {
   "cell_type": "code",
   "execution_count": 43,
   "metadata": {
    "execution": {
     "iopub.execute_input": "2022-12-09T19:18:02.917333Z",
     "iopub.status.busy": "2022-12-09T19:18:02.917043Z",
     "iopub.status.idle": "2022-12-09T19:18:02.922528Z",
     "shell.execute_reply": "2022-12-09T19:18:02.921051Z",
     "shell.execute_reply.started": "2022-12-09T19:18:02.917306Z"
    }
   },
   "outputs": [],
   "source": [
    "# plt.hist(df[\"alchemy_category_score\"], bins=20)\n",
    "# plt.show()"
   ]
  },
  {
   "cell_type": "markdown",
   "metadata": {},
   "source": [
    "# Splitting into Test and Train"
   ]
  },
  {
   "cell_type": "code",
   "execution_count": 60,
   "metadata": {
    "execution": {
     "iopub.execute_input": "2022-12-09T19:39:34.042868Z",
     "iopub.status.busy": "2022-12-09T19:39:34.042410Z",
     "iopub.status.idle": "2022-12-09T19:39:34.082480Z",
     "shell.execute_reply": "2022-12-09T19:39:34.081139Z",
     "shell.execute_reply.started": "2022-12-09T19:39:34.042815Z"
    }
   },
   "outputs": [],
   "source": [
    "# Train=pd.concat([df_new.iloc[:4437,:],x_df.iloc[:4437,:]],ignore_index=True,axis=1)\n",
    "# Test=pd.concat([df_new.iloc[4437:,:],x_df.iloc[4437:,:]],ignore_index=True,axis=1)\n",
    "\n",
    "Train=pd.concat([x_df.iloc[:4437,:]],ignore_index=True,axis=1)\n",
    "Test=pd.concat([x_df.iloc[4437:,:]],ignore_index=True,axis=1)"
   ]
  },
  {
   "cell_type": "code",
   "execution_count": 61,
   "metadata": {
    "execution": {
     "iopub.execute_input": "2022-12-09T19:39:45.102565Z",
     "iopub.status.busy": "2022-12-09T19:39:45.102070Z",
     "iopub.status.idle": "2022-12-09T19:39:45.131798Z",
     "shell.execute_reply": "2022-12-09T19:39:45.130865Z",
     "shell.execute_reply.started": "2022-12-09T19:39:45.102537Z"
    }
   },
   "outputs": [],
   "source": [
    "from sklearn.metrics import accuracy_score, f1_score \n",
    "from sklearn.model_selection import train_test_split \n",
    "\n",
    "X_train, X_test, y_train, y_test = train_test_split(Train, y, test_size=0.2, random_state=42)"
   ]
  },
  {
   "cell_type": "markdown",
   "metadata": {},
   "source": [
    "# Training Models"
   ]
  },
  {
   "cell_type": "markdown",
   "metadata": {},
   "source": [
    "# Logestic Regression"
   ]
  },
  {
   "cell_type": "code",
   "execution_count": 62,
   "metadata": {
    "execution": {
     "iopub.execute_input": "2022-12-09T19:39:45.241274Z",
     "iopub.status.busy": "2022-12-09T19:39:45.240926Z",
     "iopub.status.idle": "2022-12-09T19:39:45.343871Z",
     "shell.execute_reply": "2022-12-09T19:39:45.342846Z",
     "shell.execute_reply.started": "2022-12-09T19:39:45.241247Z"
    }
   },
   "outputs": [
    {
     "data": {
      "text/plain": [
       "0.8762871940692594"
      ]
     },
     "execution_count": 62,
     "metadata": {},
     "output_type": "execute_result"
    }
   ],
   "source": [
    "from sklearn.linear_model import LogisticRegression\n",
    "\n",
    "logistic_regression_model = LogisticRegression(max_iter=700)\n",
    "logistic_regression_model.fit(X_train,y_train)\n",
    "log_roc=logistic_regression_model.predict_proba(X_test)\n",
    "roc_auc_score(y_test,log_roc[:,1])"
   ]
  },
  {
   "cell_type": "markdown",
   "metadata": {},
   "source": [
    "# XGBoost with Hyper Parameter Optimization"
   ]
  },
  {
   "cell_type": "code",
   "execution_count": 63,
   "metadata": {
    "execution": {
     "iopub.execute_input": "2022-12-09T19:39:47.419841Z",
     "iopub.status.busy": "2022-12-09T19:39:47.419497Z",
     "iopub.status.idle": "2022-12-09T19:39:47.424650Z",
     "shell.execute_reply": "2022-12-09T19:39:47.423869Z",
     "shell.execute_reply.started": "2022-12-09T19:39:47.419795Z"
    }
   },
   "outputs": [],
   "source": [
    "params={\n",
    " \"learning_rate\"    : [0.05, 0.10, 0.15, 0.20, 0.25, 0.30 ] ,\n",
    " \"max_depth\"        : [ 3, 4, 5, 6, 8, 10, 12, 15],\n",
    " \"min_child_weight\" : [ 1, 3, 5, 7 ],\n",
    " \"gamma\"            : [ 0.0, 0.1, 0.2 , 0.3, 0.4 ],\n",
    " \"colsample_bytree\" : [ 0.3, 0.4, 0.5 , 0.7 ] \n",
    "}"
   ]
  },
  {
   "cell_type": "code",
   "execution_count": 64,
   "metadata": {
    "execution": {
     "iopub.execute_input": "2022-12-09T19:39:47.426485Z",
     "iopub.status.busy": "2022-12-09T19:39:47.426235Z",
     "iopub.status.idle": "2022-12-09T19:39:47.435701Z",
     "shell.execute_reply": "2022-12-09T19:39:47.434840Z",
     "shell.execute_reply.started": "2022-12-09T19:39:47.426455Z"
    }
   },
   "outputs": [],
   "source": [
    "from sklearn.model_selection import RandomizedSearchCV\n",
    "import xgboost\n",
    "classifier=xgboost.XGBClassifier()"
   ]
  },
  {
   "cell_type": "code",
   "execution_count": 65,
   "metadata": {
    "execution": {
     "iopub.execute_input": "2022-12-09T19:39:47.437801Z",
     "iopub.status.busy": "2022-12-09T19:39:47.437089Z",
     "iopub.status.idle": "2022-12-09T19:45:24.765246Z",
     "shell.execute_reply": "2022-12-09T19:45:24.764356Z",
     "shell.execute_reply.started": "2022-12-09T19:39:47.437773Z"
    }
   },
   "outputs": [
    {
     "name": "stdout",
     "output_type": "stream",
     "text": [
      "Fitting 5 folds for each of 5 candidates, totalling 25 fits\n"
     ]
    },
    {
     "data": {
      "text/plain": [
       "RandomizedSearchCV(cv=5,\n",
       "                   estimator=XGBClassifier(base_score=None, booster=None,\n",
       "                                           callbacks=None,\n",
       "                                           colsample_bylevel=None,\n",
       "                                           colsample_bynode=None,\n",
       "                                           colsample_bytree=None,\n",
       "                                           early_stopping_rounds=None,\n",
       "                                           enable_categorical=False,\n",
       "                                           eval_metric=None, gamma=None,\n",
       "                                           gpu_id=None, grow_policy=None,\n",
       "                                           importance_type=None,\n",
       "                                           interaction_constraints=None,\n",
       "                                           learning_rate=None, max_bin=None,...\n",
       "                                           n_estimators=100, n_jobs=None,\n",
       "                                           num_parallel_tree=None,\n",
       "                                           predictor=None, random_state=None,\n",
       "                                           reg_alpha=None, reg_lambda=None, ...),\n",
       "                   n_iter=5, n_jobs=-1,\n",
       "                   param_distributions={'colsample_bytree': [0.3, 0.4, 0.5,\n",
       "                                                             0.7],\n",
       "                                        'gamma': [0.0, 0.1, 0.2, 0.3, 0.4],\n",
       "                                        'learning_rate': [0.05, 0.1, 0.15, 0.2,\n",
       "                                                          0.25, 0.3],\n",
       "                                        'max_depth': [3, 4, 5, 6, 8, 10, 12,\n",
       "                                                      15],\n",
       "                                        'min_child_weight': [1, 3, 5, 7]},\n",
       "                   scoring='roc_auc', verbose=3)"
      ]
     },
     "execution_count": 65,
     "metadata": {},
     "output_type": "execute_result"
    }
   ],
   "source": [
    "random_search=RandomizedSearchCV(classifier,param_distributions=params,n_iter=5,scoring='roc_auc',n_jobs=-1,cv=5,verbose=3)\n",
    "random_search.fit(X_train,y_train)"
   ]
  },
  {
   "cell_type": "code",
   "execution_count": 66,
   "metadata": {
    "execution": {
     "iopub.execute_input": "2022-12-09T19:45:24.768189Z",
     "iopub.status.busy": "2022-12-09T19:45:24.767881Z",
     "iopub.status.idle": "2022-12-09T19:45:24.773934Z",
     "shell.execute_reply": "2022-12-09T19:45:24.773122Z",
     "shell.execute_reply.started": "2022-12-09T19:45:24.768155Z"
    }
   },
   "outputs": [
    {
     "data": {
      "text/plain": [
       "{'min_child_weight': 1,\n",
       " 'max_depth': 15,\n",
       " 'learning_rate': 0.05,\n",
       " 'gamma': 0.4,\n",
       " 'colsample_bytree': 0.7}"
      ]
     },
     "execution_count": 66,
     "metadata": {},
     "output_type": "execute_result"
    }
   ],
   "source": [
    "random_search.best_params_"
   ]
  },
  {
   "cell_type": "code",
   "execution_count": 67,
   "metadata": {
    "execution": {
     "iopub.execute_input": "2022-12-09T19:45:24.775675Z",
     "iopub.status.busy": "2022-12-09T19:45:24.775252Z",
     "iopub.status.idle": "2022-12-09T19:45:24.818049Z",
     "shell.execute_reply": "2022-12-09T19:45:24.816927Z",
     "shell.execute_reply.started": "2022-12-09T19:45:24.775651Z"
    }
   },
   "outputs": [
    {
     "data": {
      "text/plain": [
       "0.8629481060221387"
      ]
     },
     "execution_count": 67,
     "metadata": {},
     "output_type": "execute_result"
    }
   ],
   "source": [
    "y_pred = random_search.predict_proba(X_test)\n",
    "roc_auc_score(y_test,y_pred[:,1])"
   ]
  },
  {
   "cell_type": "markdown",
   "metadata": {},
   "source": [
    "# K-Nearest Neighbors with Hyper Parameter Optimization"
   ]
  },
  {
   "cell_type": "code",
   "execution_count": 68,
   "metadata": {
    "execution": {
     "iopub.execute_input": "2022-12-09T19:45:24.822138Z",
     "iopub.status.busy": "2022-12-09T19:45:24.819036Z",
     "iopub.status.idle": "2022-12-09T19:46:31.659028Z",
     "shell.execute_reply": "2022-12-09T19:46:31.658300Z",
     "shell.execute_reply.started": "2022-12-09T19:45:24.822085Z"
    }
   },
   "outputs": [
    {
     "name": "stdout",
     "output_type": "stream",
     "text": [
      "{'weights': 'uniform', 'n_neighbors': 25, 'algorithm': 'brute'}\n"
     ]
    }
   ],
   "source": [
    "# Import necessary modules\n",
    "from sklearn.neighbors import KNeighborsClassifier\n",
    "from sklearn.model_selection import RandomizedSearchCV\n",
    "\n",
    "param_grid = {\n",
    "    'n_neighbors': [1, 3, 5, 7, 9, 11,13,15,17,19,21,23,25,27],\n",
    "    'weights': ['uniform', 'distance'],\n",
    "    'algorithm': ['auto', 'ball_tree', 'kd_tree', 'brute']\n",
    "}\n",
    "\n",
    "knn = KNeighborsClassifier()\n",
    "\n",
    "knn_search = RandomizedSearchCV(\n",
    "    estimator=knn, \n",
    "    param_distributions=param_grid, \n",
    "    n_iter=10, \n",
    "    cv=5, \n",
    "    scoring='roc_auc'\n",
    ")\n",
    "\n",
    "knn_search.fit(X_train, y_train)\n",
    "print(knn_search.best_params_)"
   ]
  },
  {
   "cell_type": "code",
   "execution_count": 69,
   "metadata": {
    "_kg_hide-output": false,
    "execution": {
     "iopub.execute_input": "2022-12-09T19:46:31.664153Z",
     "iopub.status.busy": "2022-12-09T19:46:31.662154Z",
     "iopub.status.idle": "2022-12-09T19:46:31.834598Z",
     "shell.execute_reply": "2022-12-09T19:46:31.833871Z",
     "shell.execute_reply.started": "2022-12-09T19:46:31.664120Z"
    }
   },
   "outputs": [
    {
     "data": {
      "text/plain": [
       "0.8604041840154362"
      ]
     },
     "execution_count": 69,
     "metadata": {},
     "output_type": "execute_result"
    }
   ],
   "source": [
    "from sklearn.neighbors import KNeighborsClassifier\n",
    "\n",
    "knn = KNeighborsClassifier(weights = \"uniform\", n_neighbors = 25, algorithm = \"brute\")\n",
    "knn.fit(X_train, y_train)\n",
    "\n",
    "y_pred = knn.predict_proba(X_test)\n",
    "roc_auc_score(y_test,y_pred[:,1])"
   ]
  },
  {
   "cell_type": "markdown",
   "metadata": {},
   "source": [
    "# Support Vector Machine"
   ]
  },
  {
   "cell_type": "code",
   "execution_count": 70,
   "metadata": {
    "execution": {
     "iopub.execute_input": "2022-12-09T19:46:31.839851Z",
     "iopub.status.busy": "2022-12-09T19:46:31.838069Z",
     "iopub.status.idle": "2022-12-09T19:47:02.226490Z",
     "shell.execute_reply": "2022-12-09T19:47:02.225274Z",
     "shell.execute_reply.started": "2022-12-09T19:46:31.839799Z"
    }
   },
   "outputs": [
    {
     "data": {
      "text/plain": [
       "0.858063369554179"
      ]
     },
     "execution_count": 70,
     "metadata": {},
     "output_type": "execute_result"
    }
   ],
   "source": [
    "from sklearn.svm import SVC\n",
    "\n",
    "# Define the SVM classifier\n",
    "clf = SVC(kernel='rbf',C=1,gamma=0.01)\n",
    "clf.probability=True\n",
    "# Fit the classifier on the training data\n",
    "clf.fit(X_train, y_train)\n",
    "\n",
    "# Use the classifier to make predictions on the test data\n",
    "y_pred = clf.predict_proba(X_test)\n",
    "\n",
    "# Evaluate the predictions using roc_auc as the metric\n",
    "roc_auc_score(y_test,y_pred[:,1])"
   ]
  },
  {
   "cell_type": "markdown",
   "metadata": {},
   "source": [
    "# Voting Ensemble Classifier (Logistic Regression, SVM, Decision Tree)"
   ]
  },
  {
   "cell_type": "code",
   "execution_count": 71,
   "metadata": {
    "execution": {
     "iopub.execute_input": "2022-12-09T19:47:02.228202Z",
     "iopub.status.busy": "2022-12-09T19:47:02.227915Z",
     "iopub.status.idle": "2022-12-09T19:47:29.770246Z",
     "shell.execute_reply": "2022-12-09T19:47:29.768723Z",
     "shell.execute_reply.started": "2022-12-09T19:47:02.228177Z"
    }
   },
   "outputs": [
    {
     "data": {
      "text/plain": [
       "0.8536864019498326"
      ]
     },
     "execution_count": 71,
     "metadata": {},
     "output_type": "execute_result"
    },
    {
     "name": "stdout",
     "output_type": "stream",
     "text": [
      "[CV 1/5] END colsample_bytree=0.3, gamma=0.3, learning_rate=0.1, max_depth=4, min_child_weight=5;, score=0.851 total time=  16.9s\n",
      "[CV 1/5] END colsample_bytree=0.7, gamma=0.1, learning_rate=0.15, max_depth=15, min_child_weight=5;, score=0.852 total time=  50.7s\n",
      "[CV 1/5] END colsample_bytree=0.4, gamma=0.3, learning_rate=0.1, max_depth=4, min_child_weight=7;, score=0.852 total time=  20.3s\n",
      "[CV 4/5] END colsample_bytree=0.4, gamma=0.3, learning_rate=0.1, max_depth=4, min_child_weight=7;, score=0.864 total time=  20.5s\n",
      "[CV 2/5] END colsample_bytree=0.7, gamma=0.3, learning_rate=0.15, max_depth=12, min_child_weight=5;, score=0.826 total time=  49.9s\n",
      "[CV 2/5] END colsample_bytree=0.7, gamma=0.4, learning_rate=0.05, max_depth=15, min_child_weight=1;, score=0.842 total time= 1.5min\n",
      "[CV 4/5] END colsample_bytree=0.3, gamma=0.3, learning_rate=0.1, max_depth=4, min_child_weight=5;, score=0.872 total time=  17.2s\n",
      "[CV 3/5] END colsample_bytree=0.7, gamma=0.1, learning_rate=0.15, max_depth=15, min_child_weight=5;, score=0.863 total time=  49.6s\n",
      "[CV 5/5] END colsample_bytree=0.7, gamma=0.1, learning_rate=0.15, max_depth=15, min_child_weight=5;, score=0.876 total time=  52.1s\n",
      "[CV 4/5] END colsample_bytree=0.7, gamma=0.3, learning_rate=0.15, max_depth=12, min_child_weight=5;, score=0.865 total time=  50.1s\n",
      "[CV 3/5] END colsample_bytree=0.7, gamma=0.4, learning_rate=0.05, max_depth=15, min_child_weight=1;, score=0.855 total time= 1.4min\n",
      "[CV 3/5] END colsample_bytree=0.3, gamma=0.3, learning_rate=0.1, max_depth=4, min_child_weight=5;, score=0.853 total time=  16.6s\n",
      "[CV 5/5] END colsample_bytree=0.3, gamma=0.3, learning_rate=0.1, max_depth=4, min_child_weight=5;, score=0.868 total time=  16.0s\n",
      "[CV 4/5] END colsample_bytree=0.7, gamma=0.1, learning_rate=0.15, max_depth=15, min_child_weight=5;, score=0.869 total time=  49.8s\n",
      "[CV 3/5] END colsample_bytree=0.4, gamma=0.3, learning_rate=0.1, max_depth=4, min_child_weight=7;, score=0.858 total time=  20.3s\n",
      "[CV 1/5] END colsample_bytree=0.7, gamma=0.3, learning_rate=0.15, max_depth=12, min_child_weight=5;, score=0.843 total time=  49.1s\n",
      "[CV 5/5] END colsample_bytree=0.7, gamma=0.3, learning_rate=0.15, max_depth=12, min_child_weight=5;, score=0.869 total time=  48.9s\n",
      "[CV 4/5] END colsample_bytree=0.7, gamma=0.4, learning_rate=0.05, max_depth=15, min_child_weight=1;, score=0.870 total time= 1.3min\n",
      "[CV 2/5] END colsample_bytree=0.3, gamma=0.3, learning_rate=0.1, max_depth=4, min_child_weight=5;, score=0.842 total time=  17.0s\n",
      "[CV 2/5] END colsample_bytree=0.7, gamma=0.1, learning_rate=0.15, max_depth=15, min_child_weight=5;, score=0.822 total time=  50.8s\n",
      "[CV 2/5] END colsample_bytree=0.4, gamma=0.3, learning_rate=0.1, max_depth=4, min_child_weight=7;, score=0.836 total time=  20.3s\n",
      "[CV 5/5] END colsample_bytree=0.4, gamma=0.3, learning_rate=0.1, max_depth=4, min_child_weight=7;, score=0.870 total time=  20.5s\n",
      "[CV 3/5] END colsample_bytree=0.7, gamma=0.3, learning_rate=0.15, max_depth=12, min_child_weight=5;, score=0.855 total time=  48.5s\n",
      "[CV 1/5] END colsample_bytree=0.7, gamma=0.4, learning_rate=0.05, max_depth=15, min_child_weight=1;, score=0.850 total time= 1.5min\n",
      "[CV 5/5] END colsample_bytree=0.7, gamma=0.4, learning_rate=0.05, max_depth=15, min_child_weight=1;, score=0.872 total time= 1.0min\n"
     ]
    }
   ],
   "source": [
    "from sklearn.ensemble import VotingClassifier\n",
    "from sklearn.linear_model import LogisticRegression\n",
    "from sklearn.svm import SVC\n",
    "from sklearn.tree import DecisionTreeClassifier\n",
    "from sklearn.model_selection import train_test_split\n",
    "\n",
    "clf1 = LogisticRegression(max_iter=700)\n",
    "clf2 = SVC(kernel='rbf')\n",
    "clf3 = DecisionTreeClassifier(max_depth=9)\n",
    "clf1.probability=True\n",
    "clf2.probability=True\n",
    "clf3.probability=True\n",
    "\n",
    "ensemble = VotingClassifier(\n",
    "    estimators=[('lr', clf1), ('svc', clf2), ('dt', clf3)],\n",
    "    voting='soft'\n",
    ")\n",
    "ensemble.fit(X_train, y_train)\n",
    "\n",
    "y_pred = ensemble.predict_proba(X_test)\n",
    "\n",
    "roc_auc_score(y_test,y_pred[:,1])"
   ]
  },
  {
   "cell_type": "markdown",
   "metadata": {},
   "source": [
    "# Prediction on Test Data"
   ]
  },
  {
   "cell_type": "code",
   "execution_count": 72,
   "metadata": {
    "execution": {
     "iopub.execute_input": "2022-12-09T19:53:05.429513Z",
     "iopub.status.busy": "2022-12-09T19:53:05.428384Z",
     "iopub.status.idle": "2022-12-09T19:53:18.021045Z",
     "shell.execute_reply": "2022-12-09T19:53:18.020078Z",
     "shell.execute_reply.started": "2022-12-09T19:53:05.429464Z"
    }
   },
   "outputs": [],
   "source": [
    "train_yhat_probability1=logistic_regression_model.predict_proba(Test)\n",
    "train_yhat_probability2=random_search.predict_proba(Test)\n",
    "train_yhat_probability3=knn.predict_proba(Test)\n",
    "train_yhat_probability4=clf.predict_proba(Test)\n",
    "train_yhat_probability5=ensemble.predict_proba(Test)\n"
   ]
  },
  {
   "cell_type": "code",
   "execution_count": 76,
   "metadata": {
    "execution": {
     "iopub.execute_input": "2022-12-09T20:07:28.121201Z",
     "iopub.status.busy": "2022-12-09T20:07:28.120789Z",
     "iopub.status.idle": "2022-12-09T20:07:28.134245Z",
     "shell.execute_reply": "2022-12-09T20:07:28.133128Z",
     "shell.execute_reply.started": "2022-12-09T20:07:28.121171Z"
    }
   },
   "outputs": [],
   "source": [
    "# submission=pd.DataFrame(df_test[\"link_id\"])\n",
    "# temp=avgt[:,1]\n",
    "# submission.insert(1,\"label\",temp,True)\n",
    "\n",
    "# submission.to_csv('avg_submission.csv',index = False)"
   ]
  }
 ],
 "metadata": {
  "kernelspec": {
   "display_name": "Python 3 (ipykernel)",
   "language": "python",
   "name": "python3"
  },
  "language_info": {
   "codemirror_mode": {
    "name": "ipython",
    "version": 3
   },
   "file_extension": ".py",
   "mimetype": "text/x-python",
   "name": "python",
   "nbconvert_exporter": "python",
   "pygments_lexer": "ipython3",
   "version": "3.10.6"
  }
 },
 "nbformat": 4,
 "nbformat_minor": 4
}
