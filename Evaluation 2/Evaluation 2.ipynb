{
 "cells": [
  {
   "cell_type": "code",
   "execution_count": 4,
   "metadata": {
    "_cell_guid": "b1076dfc-b9ad-4769-8c92-a6c4dae69d19",
    "_uuid": "8f2839f25d086af736a60e9eeb907d3b93b6e0e5",
    "execution": {
     "iopub.execute_input": "2022-11-22T10:05:43.237267Z",
     "iopub.status.busy": "2022-11-22T10:05:43.236710Z",
     "iopub.status.idle": "2022-11-22T10:05:53.514930Z",
     "shell.execute_reply": "2022-11-22T10:05:53.513455Z",
     "shell.execute_reply.started": "2022-11-22T10:05:43.237219Z"
    }
   },
   "outputs": [],
   "source": [
    "# This Python 3 environment comes with many helpful analytics libraries installed\n",
    "# It is defined by the kaggle/python Docker image: https://github.com/kaggle/docker-python\n",
    "# For example, here's several helpful packages to load\n",
    "\n",
    "import numpy as np # linear algebra\n",
    "import pandas as pd # data processing, CSV file I/O (e.g. pd.read_csv)\n",
    "\n",
    "# Input data files are available in the read-only \"../input/\" directory\n",
    "# For example, running this (by clicking run or pressing Shift+Enter) will list all files under the input directory\n",
    "\n",
    "import os\n",
    "for dirname, _, filenames in os.walk('/kaggle/input'):\n",
    "    for filename in filenames:\n",
    "        os.path.join(dirname, filename)\n",
    "\n",
    "# You can write up to 20GB to the current directory (/kaggle/working/) that gets preserved as output when you create a version using \"Save & Run All\" \n",
    "# You can also write temporary files to /kaggle/temp/, but they won't be saved outside of the current session"
   ]
  },
  {
   "cell_type": "markdown",
   "metadata": {},
   "source": [
    "# Importing Libraries"
   ]
  },
  {
   "cell_type": "code",
   "execution_count": 5,
   "metadata": {
    "execution": {
     "iopub.execute_input": "2022-11-22T10:05:53.518119Z",
     "iopub.status.busy": "2022-11-22T10:05:53.517617Z",
     "iopub.status.idle": "2022-11-22T10:05:53.525220Z",
     "shell.execute_reply": "2022-11-22T10:05:53.523947Z",
     "shell.execute_reply.started": "2022-11-22T10:05:53.518064Z"
    }
   },
   "outputs": [],
   "source": [
    "import numpy as np\n",
    "import pandas as pd\n",
    "import matplotlib.pyplot as plt \n",
    "import seaborn as sns \n",
    "import sklearn.preprocessing as preprocessing \n",
    "from sklearn.feature_extraction.text import TfidfVectorizer\n",
    "from sklearn.metrics import roc_curve\n",
    "from sklearn.metrics import roc_auc_score\n",
    "from sklearn.preprocessing import StandardScaler\n",
    "import nltk\n",
    "import re\n",
    "from gensim.models import Word2Vec\n",
    "from gensim.models import KeyedVectors\n",
    "import pickle\n",
    "from tqdm import tqdm"
   ]
  },
  {
   "cell_type": "code",
   "execution_count": 6,
   "metadata": {
    "execution": {
     "iopub.execute_input": "2022-11-22T10:05:53.527838Z",
     "iopub.status.busy": "2022-11-22T10:05:53.526716Z",
     "iopub.status.idle": "2022-11-22T10:05:54.122720Z",
     "shell.execute_reply": "2022-11-22T10:05:54.121436Z",
     "shell.execute_reply.started": "2022-11-22T10:05:53.527789Z"
    }
   },
   "outputs": [],
   "source": [
    "df_train = pd.read_csv(\"../input/aid-escalating-internet-coverage/train.csv\")\n",
    "df_test = pd.read_csv(\"../input/aid-escalating-internet-coverage/test.csv\")\n",
    "\n",
    "y = df_train[\"label\"]\n",
    "df_train.drop(\"label\",axis = 1,inplace = True)\n",
    "df = pd.concat([df_train,df_test],ignore_index=True)"
   ]
  },
  {
   "cell_type": "markdown",
   "metadata": {},
   "source": [
    "# Text Processing"
   ]
  },
  {
   "cell_type": "code",
   "execution_count": 7,
   "metadata": {
    "execution": {
     "iopub.execute_input": "2022-11-22T10:05:54.125635Z",
     "iopub.status.busy": "2022-11-22T10:05:54.125225Z",
     "iopub.status.idle": "2022-11-22T10:06:02.124937Z",
     "shell.execute_reply": "2022-11-22T10:06:02.123934Z",
     "shell.execute_reply.started": "2022-11-22T10:05:54.125596Z"
    }
   },
   "outputs": [
    {
     "name": "stderr",
     "output_type": "stream",
     "text": [
      "/opt/conda/lib/python3.7/site-packages/pandas/core/indexing.py:1732: SettingWithCopyWarning: \n",
      "A value is trying to be set on a copy of a slice from a DataFrame\n",
      "\n",
      "See the caveats in the documentation: https://pandas.pydata.org/pandas-docs/stable/user_guide/indexing.html#returning-a-view-versus-a-copy\n",
      "  self._setitem_single_block(indexer, value, name)\n"
     ]
    }
   ],
   "source": [
    "df_page = df.loc[:,\"page_description\"]\n",
    "\n",
    "for i in range(df_page.shape[0]):\n",
    "    df_page.iloc[i] = re.sub(r'[^\\w\\s]','',df_page.iloc[i])\n",
    "for i in range(df_page.shape[0]):\n",
    "     df_page.iloc[i] = re.sub(r'[\\d]','',df_page.iloc[i])"
   ]
  },
  {
   "cell_type": "markdown",
   "metadata": {},
   "source": [
    "# Tokenize"
   ]
  },
  {
   "cell_type": "code",
   "execution_count": 8,
   "metadata": {
    "execution": {
     "iopub.execute_input": "2022-11-22T10:06:02.126907Z",
     "iopub.status.busy": "2022-11-22T10:06:02.126324Z",
     "iopub.status.idle": "2022-11-22T10:06:13.480417Z",
     "shell.execute_reply": "2022-11-22T10:06:13.478949Z",
     "shell.execute_reply.started": "2022-11-22T10:06:02.126872Z"
    }
   },
   "outputs": [],
   "source": [
    "token = [[]] * df.shape[0]\n",
    "for i in range(df.shape[0]):\n",
    "    token[i] = nltk.word_tokenize(df_page.iloc[i].lower())    "
   ]
  },
  {
   "cell_type": "markdown",
   "metadata": {},
   "source": [
    "# Remove Stop Words"
   ]
  },
  {
   "cell_type": "code",
   "execution_count": 9,
   "metadata": {
    "execution": {
     "iopub.execute_input": "2022-11-22T10:06:13.482316Z",
     "iopub.status.busy": "2022-11-22T10:06:13.481922Z",
     "iopub.status.idle": "2022-11-22T10:06:21.878708Z",
     "shell.execute_reply": "2022-11-22T10:06:21.877400Z",
     "shell.execute_reply.started": "2022-11-22T10:06:13.482279Z"
    }
   },
   "outputs": [],
   "source": [
    "from nltk.corpus import stopwords\n",
    "stop_words = stopwords.words('english')\n",
    "stop_words.extend(['i','my','if','oh','yes','yeah','no','cuz','us','also','un','put','get','got','also'])\n",
    "word_list=[]\n",
    "for text in token:\n",
    "    no_stopwords = [word for word in text if word not in stop_words]\n",
    "    word_list.append(no_stopwords)"
   ]
  },
  {
   "cell_type": "markdown",
   "metadata": {},
   "source": [
    "# Lemmatization"
   ]
  },
  {
   "cell_type": "code",
   "execution_count": 10,
   "metadata": {
    "execution": {
     "iopub.execute_input": "2022-11-22T10:06:21.880911Z",
     "iopub.status.busy": "2022-11-22T10:06:21.880015Z",
     "iopub.status.idle": "2022-11-22T10:06:35.018348Z",
     "shell.execute_reply": "2022-11-22T10:06:35.017024Z",
     "shell.execute_reply.started": "2022-11-22T10:06:21.880867Z"
    }
   },
   "outputs": [
    {
     "name": "stderr",
     "output_type": "stream",
     "text": [
      "[nltk_data] Downloading package omw-1.4 to /usr/share/nltk_data...\n"
     ]
    }
   ],
   "source": [
    "nltk.download('omw-1.4')\n",
    "from nltk.stem import WordNetLemmatizer\n",
    "lemmatizer = WordNetLemmatizer()\n",
    "\n",
    "lemmatize_list = []\n",
    "for word in word_list:\n",
    "    filter_data = []\n",
    "    for data in word:\n",
    "        filter_data.append(lemmatizer.lemmatize(data))\n",
    "    lemmatize_list.append(filter_data)    "
   ]
  },
  {
   "cell_type": "markdown",
   "metadata": {},
   "source": [
    "# Unique Values"
   ]
  },
  {
   "cell_type": "code",
   "execution_count": 11,
   "metadata": {
    "execution": {
     "iopub.execute_input": "2022-11-22T10:06:35.020735Z",
     "iopub.status.busy": "2022-11-22T10:06:35.020332Z",
     "iopub.status.idle": "2022-11-22T10:06:35.402509Z",
     "shell.execute_reply": "2022-11-22T10:06:35.401234Z",
     "shell.execute_reply.started": "2022-11-22T10:06:35.020683Z"
    }
   },
   "outputs": [],
   "source": [
    "unique_list=[]\n",
    "for data in lemmatize_list:\n",
    "    set_data = set(data)\n",
    "    temporary=[]\n",
    "    for word in set_data:\n",
    "        temporary.append(word)\n",
    "    unique_list.append(temporary)\n",
    "    "
   ]
  },
  {
   "cell_type": "code",
   "execution_count": 12,
   "metadata": {
    "execution": {
     "iopub.execute_input": "2022-11-22T10:06:35.404480Z",
     "iopub.status.busy": "2022-11-22T10:06:35.404071Z",
     "iopub.status.idle": "2022-11-22T10:06:35.461696Z",
     "shell.execute_reply": "2022-11-22T10:06:35.460461Z",
     "shell.execute_reply.started": "2022-11-22T10:06:35.404434Z"
    }
   },
   "outputs": [],
   "source": [
    "clean_pagedesc=[]\n",
    "for item in unique_list:\n",
    "    sr=\" \"\n",
    "    clean_pagedesc.append(sr.join(item))\n",
    "df[\"clean_page_description\"]=clean_pagedesc"
   ]
  },
  {
   "cell_type": "markdown",
   "metadata": {},
   "source": [
    "# Word2Vec Implementation"
   ]
  },
  {
   "cell_type": "code",
   "execution_count": 13,
   "metadata": {
    "execution": {
     "iopub.execute_input": "2022-11-22T10:06:35.466520Z",
     "iopub.status.busy": "2022-11-22T10:06:35.466129Z",
     "iopub.status.idle": "2022-11-22T10:06:35.623159Z",
     "shell.execute_reply": "2022-11-22T10:06:35.622278Z",
     "shell.execute_reply.started": "2022-11-22T10:06:35.466484Z"
    }
   },
   "outputs": [],
   "source": [
    "list_of_sentance=[]\n",
    "for sentance in clean_pagedesc:\n",
    "    list_of_sentance.append(sentance.split())"
   ]
  },
  {
   "cell_type": "code",
   "execution_count": 14,
   "metadata": {
    "execution": {
     "iopub.execute_input": "2022-11-22T10:06:35.625284Z",
     "iopub.status.busy": "2022-11-22T10:06:35.624245Z",
     "iopub.status.idle": "2022-11-22T10:07:32.278093Z",
     "shell.execute_reply": "2022-11-22T10:07:32.276830Z",
     "shell.execute_reply.started": "2022-11-22T10:06:35.625246Z"
    }
   },
   "outputs": [],
   "source": [
    "w2v_model = Word2Vec(list_of_sentance,min_count = 5,vector_size = 50, workers = 4,window = 5, sg = 1,negative =20)\n",
    "w2v_words = list(w2v_model.wv.index_to_key)"
   ]
  },
  {
   "cell_type": "code",
   "execution_count": 15,
   "metadata": {
    "execution": {
     "iopub.execute_input": "2022-11-22T10:07:32.280164Z",
     "iopub.status.busy": "2022-11-22T10:07:32.279766Z",
     "iopub.status.idle": "2022-11-22T10:07:33.737563Z",
     "shell.execute_reply": "2022-11-22T10:07:33.736283Z",
     "shell.execute_reply.started": "2022-11-22T10:07:32.280126Z"
    }
   },
   "outputs": [],
   "source": [
    "feature_extraction = TfidfVectorizer()\n",
    "feature_extraction.fit(df['clean_page_description'])\n",
    "a=feature_extraction.get_feature_names_out()\n",
    "b=list(feature_extraction.idf_)"
   ]
  },
  {
   "cell_type": "code",
   "execution_count": 16,
   "metadata": {
    "execution": {
     "iopub.execute_input": "2022-11-22T10:07:33.739482Z",
     "iopub.status.busy": "2022-11-22T10:07:33.739080Z",
     "iopub.status.idle": "2022-11-22T10:07:33.801786Z",
     "shell.execute_reply": "2022-11-22T10:07:33.799826Z",
     "shell.execute_reply.started": "2022-11-22T10:07:33.739446Z"
    }
   },
   "outputs": [],
   "source": [
    "dictionary = {}\n",
    "for i in range(len(a)): \n",
    "    dictionary[a[i]]=b[i]"
   ]
  },
  {
   "cell_type": "code",
   "execution_count": 17,
   "metadata": {
    "execution": {
     "iopub.execute_input": "2022-11-22T10:07:33.805126Z",
     "iopub.status.busy": "2022-11-22T10:07:33.803614Z",
     "iopub.status.idle": "2022-11-22T11:26:54.458705Z",
     "shell.execute_reply": "2022-11-22T11:26:54.457448Z",
     "shell.execute_reply.started": "2022-11-22T10:07:33.805058Z"
    }
   },
   "outputs": [
    {
     "name": "stderr",
     "output_type": "stream",
     "text": [
      "100%|██████████| 7395/7395 [1:19:20<00:00,  1.55it/s]\n"
     ]
    }
   ],
   "source": [
    "tfidf_feat = feature_extraction.get_feature_names_out() \n",
    "\n",
    "tfidf_sent_vectors = []\n",
    "row=0\n",
    "for sent in tqdm(list_of_sentance): \n",
    "    sent_vec = np.zeros(50) \n",
    "    weight_sum =0\n",
    "    for word in sent: \n",
    "        if word in w2v_words and word in tfidf_feat:\n",
    "            vec = w2v_model.wv[word]\n",
    "            tf_idf = dictionary[word]*(sent.count(word)/len(sent))\n",
    "            sent_vec += (vec * tf_idf)\n",
    "            weight_sum += tf_idf\n",
    "    if weight_sum != 0:\n",
    "        sent_vec /= weight_sum\n",
    "    tfidf_sent_vectors.append(sent_vec)\n",
    "    row += 1"
   ]
  },
  {
   "cell_type": "code",
   "execution_count": 18,
   "metadata": {
    "execution": {
     "iopub.execute_input": "2022-11-22T11:26:54.460851Z",
     "iopub.status.busy": "2022-11-22T11:26:54.460490Z",
     "iopub.status.idle": "2022-11-22T11:26:54.605784Z",
     "shell.execute_reply": "2022-11-22T11:26:54.604427Z",
     "shell.execute_reply.started": "2022-11-22T11:26:54.460816Z"
    }
   },
   "outputs": [
    {
     "data": {
      "text/plain": [
       "(7395, 50)"
      ]
     },
     "execution_count": 18,
     "metadata": {},
     "output_type": "execute_result"
    }
   ],
   "source": [
    "len(tfidf_sent_vectors)\n",
    "x_df = pd.DataFrame(tfidf_sent_vectors)\n",
    "x_df.shape"
   ]
  },
  {
   "cell_type": "markdown",
   "metadata": {},
   "source": [
    "# Predicting \"alchemy_score\""
   ]
  },
  {
   "cell_type": "code",
   "execution_count": 19,
   "metadata": {
    "execution": {
     "iopub.execute_input": "2022-11-22T11:26:54.608408Z",
     "iopub.status.busy": "2022-11-22T11:26:54.607885Z",
     "iopub.status.idle": "2022-11-22T11:26:57.704115Z",
     "shell.execute_reply": "2022-11-22T11:26:57.702676Z",
     "shell.execute_reply.started": "2022-11-22T11:26:54.608339Z"
    }
   },
   "outputs": [],
   "source": [
    "cat_df=pd.DataFrame()\n",
    "cat_df['alchemy_category']=df['alchemy_category']\n",
    "cat_df=pd.concat([x_df,cat_df],axis=1)\n",
    "dict={'arts_entertainment':1, 'recreation':2, 'business':3, 'sports':4, '?':5,'culture_politics':6, 'computer_internet':7, 'religion':8, 'health':9,\n",
    "'science_technology':10, 'gaming':11, 'law_crime':12, 'unknown':13, 'weather':14}\n",
    "\n",
    "for i in range(cat_df.shape[0]):\n",
    "    cat_df.loc[i,\"alchemy_category\"]=dict[cat_df.loc[i,\"alchemy_category\"]]\n",
    "cat_df[\"alchemy_category\"]=cat_df['alchemy_category'].astype(np.int64)    "
   ]
  },
  {
   "cell_type": "code",
   "execution_count": 20,
   "metadata": {
    "execution": {
     "iopub.execute_input": "2022-11-22T11:26:57.707770Z",
     "iopub.status.busy": "2022-11-22T11:26:57.707212Z",
     "iopub.status.idle": "2022-11-22T11:26:57.725054Z",
     "shell.execute_reply": "2022-11-22T11:26:57.723941Z",
     "shell.execute_reply.started": "2022-11-22T11:26:57.707718Z"
    }
   },
   "outputs": [],
   "source": [
    "cat_test=cat_df[cat_df['alchemy_category']==5]\n",
    "cat_train=cat_df[cat_df['alchemy_category']!=5]\n",
    "\n",
    "test_X=cat_test.drop(\"alchemy_category\",axis=1)\n",
    "test_Y=cat_test[\"alchemy_category\"]\n",
    "\n",
    "train_X=cat_train.drop(\"alchemy_category\",axis=1)\n",
    "train_Y=cat_train[\"alchemy_category\"]"
   ]
  },
  {
   "cell_type": "code",
   "execution_count": 21,
   "metadata": {
    "execution": {
     "iopub.execute_input": "2022-11-22T11:26:57.727604Z",
     "iopub.status.busy": "2022-11-22T11:26:57.727103Z",
     "iopub.status.idle": "2022-11-22T11:26:58.010959Z",
     "shell.execute_reply": "2022-11-22T11:26:58.009556Z",
     "shell.execute_reply.started": "2022-11-22T11:26:57.727553Z"
    }
   },
   "outputs": [
    {
     "data": {
      "text/plain": [
       "2     289\n",
       "1     232\n",
       "3     196\n",
       "9     113\n",
       "4      76\n",
       "7      45\n",
       "10     31\n",
       "6      24\n",
       "11      5\n",
       "dtype: int64"
      ]
     },
     "execution_count": 21,
     "metadata": {},
     "output_type": "execute_result"
    }
   ],
   "source": [
    "from sklearn.model_selection import train_test_split\n",
    "from sklearn.metrics import accuracy_score\n",
    "from sklearn.tree import DecisionTreeClassifier\n",
    "\n",
    "train_cat_X, test_cat_X, train_cat_y, test_cat_y = train_test_split(train_X, train_Y, train_size=0.8)\n",
    "\n",
    "decision_tree_model = DecisionTreeClassifier(max_depth = 10).fit(train_cat_X, train_cat_y)\n",
    "yhat = decision_tree_model.predict(test_cat_X)\n",
    "yt=pd.DataFrame(yhat)\n",
    "yt.value_counts()"
   ]
  },
  {
   "cell_type": "code",
   "execution_count": 22,
   "metadata": {
    "execution": {
     "iopub.execute_input": "2022-11-22T11:26:58.014331Z",
     "iopub.status.busy": "2022-11-22T11:26:58.013432Z",
     "iopub.status.idle": "2022-11-22T11:26:58.021751Z",
     "shell.execute_reply": "2022-11-22T11:26:58.020862Z",
     "shell.execute_reply.started": "2022-11-22T11:26:58.014285Z"
    }
   },
   "outputs": [
    {
     "data": {
      "text/plain": [
       "0.32146389713155293"
      ]
     },
     "execution_count": 22,
     "metadata": {},
     "output_type": "execute_result"
    }
   ],
   "source": [
    "accuracy_score(test_cat_y,yhat)"
   ]
  },
  {
   "cell_type": "code",
   "execution_count": 23,
   "metadata": {
    "execution": {
     "iopub.execute_input": "2022-11-22T11:26:58.024062Z",
     "iopub.status.busy": "2022-11-22T11:26:58.023078Z",
     "iopub.status.idle": "2022-11-22T11:26:58.345014Z",
     "shell.execute_reply": "2022-11-22T11:26:58.343864Z",
     "shell.execute_reply.started": "2022-11-22T11:26:58.024024Z"
    }
   },
   "outputs": [],
   "source": [
    "decision_tree = DecisionTreeClassifier(max_depth = 10).fit(train_X, train_Y)\n",
    "category_y = decision_tree.predict(test_X)\n",
    "category=pd.DataFrame(category_y)"
   ]
  },
  {
   "cell_type": "code",
   "execution_count": 24,
   "metadata": {
    "execution": {
     "iopub.execute_input": "2022-11-22T11:26:58.346999Z",
     "iopub.status.busy": "2022-11-22T11:26:58.346669Z",
     "iopub.status.idle": "2022-11-22T11:26:59.169909Z",
     "shell.execute_reply": "2022-11-22T11:26:59.168660Z",
     "shell.execute_reply.started": "2022-11-22T11:26:58.346969Z"
    }
   },
   "outputs": [],
   "source": [
    "k = 0\n",
    "for i in range(cat_df.shape[0]):\n",
    "    if cat_df.loc[i,\"alchemy_category\"] == 5:\n",
    "        cat_df.loc[i,\"alchemy_category\"] = category[0][k]\n",
    "        k += 1"
   ]
  },
  {
   "cell_type": "markdown",
   "metadata": {},
   "source": [
    "# Predict \"alchemy_category_score\""
   ]
  },
  {
   "cell_type": "code",
   "execution_count": 25,
   "metadata": {
    "execution": {
     "iopub.execute_input": "2022-11-22T11:26:59.172595Z",
     "iopub.status.busy": "2022-11-22T11:26:59.171672Z",
     "iopub.status.idle": "2022-11-22T11:26:59.197959Z",
     "shell.execute_reply": "2022-11-22T11:26:59.196997Z",
     "shell.execute_reply.started": "2022-11-22T11:26:59.172537Z"
    }
   },
   "outputs": [],
   "source": [
    "cat_score_df=pd.DataFrame()\n",
    "\n",
    "cat_score_df['alchemy_category_score']=df['alchemy_category_score']\n",
    "cat_score_df=pd.concat([x_df,cat_score_df],axis=1)\n",
    "\n",
    "\n",
    "cat_score_test=cat_score_df[cat_score_df['alchemy_category_score'] == \"?\"]\n",
    "cat_score_train=cat_score_df[cat_score_df['alchemy_category_score'] != \"?\"]\n",
    "\n",
    "test_x=cat_score_test.drop(\"alchemy_category_score\",axis=1)\n",
    "test_y=cat_score_test[\"alchemy_category_score\"]\n",
    "\n",
    "train_x=cat_score_train.drop(\"alchemy_category_score\",axis=1)\n",
    "train_y=cat_score_train[\"alchemy_category_score\"].astype(np.float64)"
   ]
  },
  {
   "cell_type": "code",
   "execution_count": 26,
   "metadata": {
    "execution": {
     "iopub.execute_input": "2022-11-22T11:26:59.201492Z",
     "iopub.status.busy": "2022-11-22T11:26:59.201047Z",
     "iopub.status.idle": "2022-11-22T11:26:59.212471Z",
     "shell.execute_reply": "2022-11-22T11:26:59.211091Z",
     "shell.execute_reply.started": "2022-11-22T11:26:59.201453Z"
    }
   },
   "outputs": [],
   "source": [
    "train_cat_score_X, test_cat_score_X, train_cat_score_y, test_cat_score_y = train_test_split(train_x, train_y, train_size=0.8)"
   ]
  },
  {
   "cell_type": "code",
   "execution_count": 27,
   "metadata": {
    "execution": {
     "iopub.execute_input": "2022-11-22T11:26:59.214319Z",
     "iopub.status.busy": "2022-11-22T11:26:59.213807Z",
     "iopub.status.idle": "2022-11-22T11:26:59.257754Z",
     "shell.execute_reply": "2022-11-22T11:26:59.255875Z",
     "shell.execute_reply.started": "2022-11-22T11:26:59.214271Z"
    }
   },
   "outputs": [],
   "source": [
    "from sklearn.linear_model import LinearRegression\n",
    "\n",
    "lr_model = LinearRegression()\n",
    "lr_model.fit(train_cat_score_X, train_cat_score_y)\n",
    "score_y=lr_model.predict(test_cat_score_X)\n",
    "\n",
    "score=pd.DataFrame(score_y).astype(np.float64)\n"
   ]
  },
  {
   "cell_type": "code",
   "execution_count": 28,
   "metadata": {
    "execution": {
     "iopub.execute_input": "2022-11-22T11:26:59.273507Z",
     "iopub.status.busy": "2022-11-22T11:26:59.268875Z",
     "iopub.status.idle": "2022-11-22T11:26:59.305826Z",
     "shell.execute_reply": "2022-11-22T11:26:59.304385Z",
     "shell.execute_reply.started": "2022-11-22T11:26:59.273421Z"
    }
   },
   "outputs": [
    {
     "data": {
      "text/plain": [
       "0.21090979661118997"
      ]
     },
     "execution_count": 28,
     "metadata": {},
     "output_type": "execute_result"
    }
   ],
   "source": [
    "import math\n",
    "from sklearn.metrics import mean_squared_error\n",
    "rmse = math.sqrt(mean_squared_error(test_cat_score_y,score))\n",
    "rmse"
   ]
  },
  {
   "cell_type": "code",
   "execution_count": 29,
   "metadata": {
    "execution": {
     "iopub.execute_input": "2022-11-22T11:26:59.318957Z",
     "iopub.status.busy": "2022-11-22T11:26:59.313747Z",
     "iopub.status.idle": "2022-11-22T11:26:59.381286Z",
     "shell.execute_reply": "2022-11-22T11:26:59.379271Z",
     "shell.execute_reply.started": "2022-11-22T11:26:59.318863Z"
    }
   },
   "outputs": [],
   "source": [
    "from sklearn.linear_model import LinearRegression\n",
    "\n",
    "lr_model = LinearRegression()\n",
    "lr_model.fit(train_x, train_y)\n",
    "cat_score_y=lr_model.predict(test_x)\n",
    "cat_score=pd.DataFrame(cat_score_y).astype(np.float64)"
   ]
  },
  {
   "cell_type": "code",
   "execution_count": 30,
   "metadata": {
    "execution": {
     "iopub.execute_input": "2022-11-22T11:26:59.396740Z",
     "iopub.status.busy": "2022-11-22T11:26:59.390144Z",
     "iopub.status.idle": "2022-11-22T11:27:00.628335Z",
     "shell.execute_reply": "2022-11-22T11:27:00.626916Z",
     "shell.execute_reply.started": "2022-11-22T11:26:59.396651Z"
    }
   },
   "outputs": [],
   "source": [
    "k = 0\n",
    "for i in range(cat_score_df.shape[0]):\n",
    "    if cat_score_df.loc[i,\"alchemy_category_score\"] == \"?\":\n",
    "        cat_score_df.loc[i,\"alchemy_category_score\"] = cat_score[0][k]\n",
    "        k += 1"
   ]
  },
  {
   "cell_type": "markdown",
   "metadata": {},
   "source": [
    "# Selecting relevant features "
   ]
  },
  {
   "cell_type": "code",
   "execution_count": 31,
   "metadata": {
    "execution": {
     "iopub.execute_input": "2022-11-22T11:27:00.636295Z",
     "iopub.status.busy": "2022-11-22T11:27:00.635860Z",
     "iopub.status.idle": "2022-11-22T11:27:00.651850Z",
     "shell.execute_reply": "2022-11-22T11:27:00.650437Z",
     "shell.execute_reply.started": "2022-11-22T11:27:00.636254Z"
    }
   },
   "outputs": [],
   "source": [
    "df_new=df.drop([\"link_id\",\"alchemy_category\",\"alchemy_category_score\",\"link\",\"clean_page_description\",\"page_description\",\"frame_based\",\"is_news\",\"news_front_page\"],axis=1)\n",
    "df_new[\"alchemy_category\"]= cat_df[\"alchemy_category\"]\n",
    "df_new[\"alchemy_category_score\"]= cat_score_df[\"alchemy_category_score\"].astype(np.float64)\n",
    "df_new_columns=df_new.columns"
   ]
  },
  {
   "cell_type": "markdown",
   "metadata": {},
   "source": [
    "# Standardization"
   ]
  },
  {
   "cell_type": "code",
   "execution_count": 32,
   "metadata": {
    "execution": {
     "iopub.execute_input": "2022-11-22T11:27:00.654022Z",
     "iopub.status.busy": "2022-11-22T11:27:00.653436Z",
     "iopub.status.idle": "2022-11-22T11:27:00.680506Z",
     "shell.execute_reply": "2022-11-22T11:27:00.679243Z",
     "shell.execute_reply.started": "2022-11-22T11:27:00.653970Z"
    }
   },
   "outputs": [],
   "source": [
    "scaler = StandardScaler()\n",
    "for i in df_new_columns:\n",
    "    df_new[i] = scaler.fit_transform(df_new[i].to_numpy().reshape(-1, 1)).reshape(-1)"
   ]
  },
  {
   "cell_type": "markdown",
   "metadata": {},
   "source": [
    "# Outlier Removal"
   ]
  },
  {
   "cell_type": "code",
   "execution_count": 33,
   "metadata": {
    "execution": {
     "iopub.execute_input": "2022-11-22T11:27:00.682340Z",
     "iopub.status.busy": "2022-11-22T11:27:00.681972Z",
     "iopub.status.idle": "2022-11-22T11:27:00.689952Z",
     "shell.execute_reply": "2022-11-22T11:27:00.688465Z",
     "shell.execute_reply.started": "2022-11-22T11:27:00.682305Z"
    }
   },
   "outputs": [],
   "source": [
    "class OutlierRemoval: \n",
    "    def __init__(self, lower_quartile, upper_quartile):\n",
    "        self.lower_whisker = lower_quartile - 1.5*(upper_quartile - lower_quartile)\n",
    "        self.upper_whisker = upper_quartile + 1.5*(upper_quartile - lower_quartile)\n",
    "   \n",
    "    def removeOutlier(self, x):\n",
    "        return (x if x <= self.upper_whisker and x >= self.lower_whisker else (self.lower_whisker if x < self.lower_whisker else (self.upper_whisker)))\n"
   ]
  },
  {
   "cell_type": "code",
   "execution_count": 34,
   "metadata": {
    "execution": {
     "iopub.execute_input": "2022-11-22T11:27:00.692759Z",
     "iopub.status.busy": "2022-11-22T11:27:00.692055Z",
     "iopub.status.idle": "2022-11-22T11:27:00.836277Z",
     "shell.execute_reply": "2022-11-22T11:27:00.834685Z",
     "shell.execute_reply.started": "2022-11-22T11:27:00.692716Z"
    }
   },
   "outputs": [],
   "source": [
    "for i in df_new_columns: \n",
    "    score=df_new[i] \n",
    "    score_outlier_remover = OutlierRemoval(score.quantile(0.25), score.quantile(0.75)) \n",
    "    outlier_removed_score = score.apply(score_outlier_remover.removeOutlier) \n",
    "    df_new[i]=outlier_removed_score"
   ]
  },
  {
   "cell_type": "markdown",
   "metadata": {},
   "source": [
    "# Splitting into Test and Train"
   ]
  },
  {
   "cell_type": "code",
   "execution_count": 35,
   "metadata": {
    "execution": {
     "iopub.execute_input": "2022-11-22T11:27:00.838043Z",
     "iopub.status.busy": "2022-11-22T11:27:00.837675Z",
     "iopub.status.idle": "2022-11-22T11:27:00.851009Z",
     "shell.execute_reply": "2022-11-22T11:27:00.849473Z",
     "shell.execute_reply.started": "2022-11-22T11:27:00.838009Z"
    }
   },
   "outputs": [],
   "source": [
    "Train=pd.concat([df_new.iloc[:4437,:],x_df.iloc[:4437,:]],ignore_index=True,axis=1)\n",
    "Test=pd.concat([df_new.iloc[4437:,:],x_df.iloc[4437:,:]],ignore_index=True,axis=1)\n"
   ]
  },
  {
   "cell_type": "code",
   "execution_count": 36,
   "metadata": {
    "execution": {
     "iopub.execute_input": "2022-11-22T11:27:00.854717Z",
     "iopub.status.busy": "2022-11-22T11:27:00.854163Z",
     "iopub.status.idle": "2022-11-22T11:27:00.871108Z",
     "shell.execute_reply": "2022-11-22T11:27:00.869623Z",
     "shell.execute_reply.started": "2022-11-22T11:27:00.854665Z"
    }
   },
   "outputs": [],
   "source": [
    "from sklearn.linear_model import LogisticRegression \n",
    "from sklearn.metrics import accuracy_score, f1_score \n",
    "from sklearn.model_selection import train_test_split \n",
    "\n",
    "X_train, X_test, y_train, y_test = train_test_split(Train, y, test_size=0.2, random_state=42)"
   ]
  },
  {
   "cell_type": "markdown",
   "metadata": {},
   "source": [
    "# XGBoost (Hyper Parameter Optimization)"
   ]
  },
  {
   "cell_type": "code",
   "execution_count": 37,
   "metadata": {
    "execution": {
     "iopub.execute_input": "2022-11-22T11:27:00.872795Z",
     "iopub.status.busy": "2022-11-22T11:27:00.872465Z",
     "iopub.status.idle": "2022-11-22T11:27:00.880773Z",
     "shell.execute_reply": "2022-11-22T11:27:00.879312Z",
     "shell.execute_reply.started": "2022-11-22T11:27:00.872766Z"
    }
   },
   "outputs": [],
   "source": [
    "params={\n",
    " \"learning_rate\"    : [0.05, 0.10, 0.15, 0.20, 0.25, 0.30 ] ,\n",
    " \"max_depth\"        : [ 3, 4, 5, 6, 8, 10, 12, 15],\n",
    " \"min_child_weight\" : [ 1, 3, 5, 7 ],\n",
    " \"gamma\"            : [ 0.0, 0.1, 0.2 , 0.3, 0.4 ],\n",
    " \"colsample_bytree\" : [ 0.3, 0.4, 0.5 , 0.7 ] \n",
    "}"
   ]
  },
  {
   "cell_type": "code",
   "execution_count": 38,
   "metadata": {
    "execution": {
     "iopub.execute_input": "2022-11-22T11:27:00.882630Z",
     "iopub.status.busy": "2022-11-22T11:27:00.882262Z",
     "iopub.status.idle": "2022-11-22T11:27:01.003137Z",
     "shell.execute_reply": "2022-11-22T11:27:01.001816Z",
     "shell.execute_reply.started": "2022-11-22T11:27:00.882597Z"
    }
   },
   "outputs": [],
   "source": [
    "from sklearn.model_selection import RandomizedSearchCV\n",
    "import xgboost\n",
    "classifier=xgboost.XGBClassifier()"
   ]
  },
  {
   "cell_type": "code",
   "execution_count": 39,
   "metadata": {
    "execution": {
     "iopub.execute_input": "2022-11-22T11:27:01.004953Z",
     "iopub.status.busy": "2022-11-22T11:27:01.004585Z",
     "iopub.status.idle": "2022-11-22T11:27:31.645107Z",
     "shell.execute_reply": "2022-11-22T11:27:31.643910Z",
     "shell.execute_reply.started": "2022-11-22T11:27:01.004918Z"
    }
   },
   "outputs": [
    {
     "name": "stdout",
     "output_type": "stream",
     "text": [
      "Fitting 5 folds for each of 5 candidates, totalling 25 fits\n"
     ]
    },
    {
     "data": {
      "text/plain": [
       "RandomizedSearchCV(cv=5,\n",
       "                   estimator=XGBClassifier(base_score=None, booster=None,\n",
       "                                           callbacks=None,\n",
       "                                           colsample_bylevel=None,\n",
       "                                           colsample_bynode=None,\n",
       "                                           colsample_bytree=None,\n",
       "                                           early_stopping_rounds=None,\n",
       "                                           enable_categorical=False,\n",
       "                                           eval_metric=None, gamma=None,\n",
       "                                           gpu_id=None, grow_policy=None,\n",
       "                                           importance_type=None,\n",
       "                                           interaction_constraints=None,\n",
       "                                           learning_rate=None, max_bin=None,...\n",
       "                                           n_estimators=100, n_jobs=None,\n",
       "                                           num_parallel_tree=None,\n",
       "                                           predictor=None, random_state=None,\n",
       "                                           reg_alpha=None, reg_lambda=None, ...),\n",
       "                   n_iter=5, n_jobs=-1,\n",
       "                   param_distributions={'colsample_bytree': [0.3, 0.4, 0.5,\n",
       "                                                             0.7],\n",
       "                                        'gamma': [0.0, 0.1, 0.2, 0.3, 0.4],\n",
       "                                        'learning_rate': [0.05, 0.1, 0.15, 0.2,\n",
       "                                                          0.25, 0.3],\n",
       "                                        'max_depth': [3, 4, 5, 6, 8, 10, 12,\n",
       "                                                      15],\n",
       "                                        'min_child_weight': [1, 3, 5, 7]},\n",
       "                   scoring='roc_auc', verbose=3)"
      ]
     },
     "execution_count": 39,
     "metadata": {},
     "output_type": "execute_result"
    }
   ],
   "source": [
    "random_search=RandomizedSearchCV(classifier,param_distributions=params,n_iter=5,scoring='roc_auc',n_jobs=-1,cv=5,verbose=3)\n",
    "random_search.fit(X_train,y_train)"
   ]
  },
  {
   "cell_type": "code",
   "execution_count": 40,
   "metadata": {
    "execution": {
     "iopub.execute_input": "2022-11-22T11:27:31.648202Z",
     "iopub.status.busy": "2022-11-22T11:27:31.647492Z",
     "iopub.status.idle": "2022-11-22T11:27:31.660111Z",
     "shell.execute_reply": "2022-11-22T11:27:31.659152Z",
     "shell.execute_reply.started": "2022-11-22T11:27:31.648154Z"
    }
   },
   "outputs": [
    {
     "data": {
      "text/plain": [
       "XGBClassifier(base_score=0.5, booster='gbtree', callbacks=None,\n",
       "              colsample_bylevel=1, colsample_bynode=1, colsample_bytree=0.4,\n",
       "              early_stopping_rounds=None, enable_categorical=False,\n",
       "              eval_metric=None, gamma=0.0, gpu_id=-1, grow_policy='depthwise',\n",
       "              importance_type=None, interaction_constraints='',\n",
       "              learning_rate=0.1, max_bin=256, max_cat_to_onehot=4,\n",
       "              max_delta_step=0, max_depth=3, max_leaves=0, min_child_weight=7,\n",
       "              missing=nan, monotone_constraints='()', n_estimators=100,\n",
       "              n_jobs=0, num_parallel_tree=1, predictor='auto', random_state=0,\n",
       "              reg_alpha=0, reg_lambda=1, ...)"
      ]
     },
     "execution_count": 40,
     "metadata": {},
     "output_type": "execute_result"
    }
   ],
   "source": [
    "random_search.best_estimator_"
   ]
  },
  {
   "cell_type": "code",
   "execution_count": 41,
   "metadata": {
    "execution": {
     "iopub.execute_input": "2022-11-22T11:27:31.662235Z",
     "iopub.status.busy": "2022-11-22T11:27:31.661631Z",
     "iopub.status.idle": "2022-11-22T11:27:31.668904Z",
     "shell.execute_reply": "2022-11-22T11:27:31.668028Z",
     "shell.execute_reply.started": "2022-11-22T11:27:31.662199Z"
    }
   },
   "outputs": [
    {
     "data": {
      "text/plain": [
       "{'min_child_weight': 7,\n",
       " 'max_depth': 3,\n",
       " 'learning_rate': 0.1,\n",
       " 'gamma': 0.0,\n",
       " 'colsample_bytree': 0.4}"
      ]
     },
     "execution_count": 41,
     "metadata": {},
     "output_type": "execute_result"
    }
   ],
   "source": [
    "random_search.best_params_"
   ]
  },
  {
   "cell_type": "code",
   "execution_count": 42,
   "metadata": {
    "execution": {
     "iopub.execute_input": "2022-11-22T11:27:31.670818Z",
     "iopub.status.busy": "2022-11-22T11:27:31.670203Z",
     "iopub.status.idle": "2022-11-22T11:27:31.697889Z",
     "shell.execute_reply": "2022-11-22T11:27:31.696894Z",
     "shell.execute_reply.started": "2022-11-22T11:27:31.670783Z"
    }
   },
   "outputs": [
    {
     "data": {
      "text/plain": [
       "0.8630953589925865"
      ]
     },
     "execution_count": 42,
     "metadata": {},
     "output_type": "execute_result"
    }
   ],
   "source": [
    "y_pred = random_search.predict_proba(X_test)\n",
    "roc_auc_score(y_test,y_pred[:,1])"
   ]
  }
 ],
 "metadata": {
  "kernelspec": {
   "display_name": "Python 3 (ipykernel)",
   "language": "python",
   "name": "python3"
  },
  "language_info": {
   "codemirror_mode": {
    "name": "ipython",
    "version": 3
   },
   "file_extension": ".py",
   "mimetype": "text/x-python",
   "name": "python",
   "nbconvert_exporter": "python",
   "pygments_lexer": "ipython3",
   "version": "3.10.6"
  }
 },
 "nbformat": 4,
 "nbformat_minor": 4
}
